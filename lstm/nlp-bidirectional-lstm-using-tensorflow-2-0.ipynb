{
 "cells": [
  {
   "cell_type": "markdown",
   "metadata": {
    "papermill": {
     "duration": 0.03397,
     "end_time": "2021-01-22T14:53:44.122053",
     "exception": false,
     "start_time": "2021-01-22T14:53:44.088083",
     "status": "completed"
    },
    "tags": []
   },
   "source": [
    "# Problem statement\n",
    "\n",
    "The aim is to develop an algorithm to predict whether a tweet is about a real disaster or not."
   ]
  },
  {
   "cell_type": "code",
   "execution_count": 1,
   "metadata": {
    "_cell_guid": "79c7e3d0-c299-4dcb-8224-4455121ee9b0",
    "_uuid": "d629ff2d2480ee46fbb7e2d37f6b5fab8052498a",
    "execution": {
     "iopub.execute_input": "2021-01-22T14:53:44.198514Z",
     "iopub.status.busy": "2021-01-22T14:53:44.197860Z",
     "iopub.status.idle": "2021-01-22T14:53:52.966256Z",
     "shell.execute_reply": "2021-01-22T14:53:52.966987Z"
    },
    "papermill": {
     "duration": 8.811805,
     "end_time": "2021-01-22T14:53:52.967202",
     "exception": false,
     "start_time": "2021-01-22T14:53:44.155397",
     "status": "completed"
    },
    "tags": []
   },
   "outputs": [],
   "source": [
    "import numpy as np\n",
    "import pandas as pd\n",
    "from tqdm import tqdm\n",
    "\n",
    "import re\n",
    "import string\n",
    "\n",
    "import nltk\n",
    "from nltk.corpus import stopwords\n",
    "stop_words = stopwords.words('english')\n",
    "\n",
    "\n",
    "import tensorflow as tf\n",
    "from tensorflow.keras.preprocessing.text import Tokenizer\n",
    "from tensorflow.keras.preprocessing.sequence import pad_sequences\n",
    "from tensorflow.keras.models import Sequential\n",
    "from tensorflow.keras.layers import Embedding\n",
    "from tensorflow.keras.initializers import Constant\n",
    "from tensorflow.keras.callbacks import EarlyStopping\n",
    "\n",
    "from sklearn.model_selection import train_test_split\n",
    "from sklearn.metrics import confusion_matrix,classification_report\n",
    "\n",
    "import matplotlib.pyplot as plt\n",
    "import seaborn as sns"
   ]
  },
  {
   "cell_type": "code",
   "execution_count": 2,
   "metadata": {
    "execution": {
     "iopub.execute_input": "2021-01-22T14:53:53.081730Z",
     "iopub.status.busy": "2021-01-22T14:53:53.077153Z",
     "iopub.status.idle": "2021-01-22T14:53:53.159794Z",
     "shell.execute_reply": "2021-01-22T14:53:53.159199Z"
    },
    "papermill": {
     "duration": 0.142242,
     "end_time": "2021-01-22T14:53:53.159911",
     "exception": false,
     "start_time": "2021-01-22T14:53:53.017669",
     "status": "completed"
    },
    "tags": []
   },
   "outputs": [
    {
     "data": {
      "text/html": [
       "<div>\n",
       "<style scoped>\n",
       "    .dataframe tbody tr th:only-of-type {\n",
       "        vertical-align: middle;\n",
       "    }\n",
       "\n",
       "    .dataframe tbody tr th {\n",
       "        vertical-align: top;\n",
       "    }\n",
       "\n",
       "    .dataframe thead th {\n",
       "        text-align: right;\n",
       "    }\n",
       "</style>\n",
       "<table border=\"1\" class=\"dataframe\">\n",
       "  <thead>\n",
       "    <tr style=\"text-align: right;\">\n",
       "      <th></th>\n",
       "      <th>id</th>\n",
       "      <th>keyword</th>\n",
       "      <th>location</th>\n",
       "      <th>text</th>\n",
       "      <th>target</th>\n",
       "    </tr>\n",
       "  </thead>\n",
       "  <tbody>\n",
       "    <tr>\n",
       "      <th>0</th>\n",
       "      <td>1</td>\n",
       "      <td>NaN</td>\n",
       "      <td>NaN</td>\n",
       "      <td>Our Deeds are the Reason of this #earthquake M...</td>\n",
       "      <td>1</td>\n",
       "    </tr>\n",
       "    <tr>\n",
       "      <th>1</th>\n",
       "      <td>4</td>\n",
       "      <td>NaN</td>\n",
       "      <td>NaN</td>\n",
       "      <td>Forest fire near La Ronge Sask. Canada</td>\n",
       "      <td>1</td>\n",
       "    </tr>\n",
       "    <tr>\n",
       "      <th>2</th>\n",
       "      <td>5</td>\n",
       "      <td>NaN</td>\n",
       "      <td>NaN</td>\n",
       "      <td>All residents asked to 'shelter in place' are ...</td>\n",
       "      <td>1</td>\n",
       "    </tr>\n",
       "    <tr>\n",
       "      <th>3</th>\n",
       "      <td>6</td>\n",
       "      <td>NaN</td>\n",
       "      <td>NaN</td>\n",
       "      <td>13,000 people receive #wildfires evacuation or...</td>\n",
       "      <td>1</td>\n",
       "    </tr>\n",
       "    <tr>\n",
       "      <th>4</th>\n",
       "      <td>7</td>\n",
       "      <td>NaN</td>\n",
       "      <td>NaN</td>\n",
       "      <td>Just got sent this photo from Ruby #Alaska as ...</td>\n",
       "      <td>1</td>\n",
       "    </tr>\n",
       "  </tbody>\n",
       "</table>\n",
       "</div>"
      ],
      "text/plain": [
       "   id keyword location                                               text  \\\n",
       "0   1     NaN      NaN  Our Deeds are the Reason of this #earthquake M...   \n",
       "1   4     NaN      NaN             Forest fire near La Ronge Sask. Canada   \n",
       "2   5     NaN      NaN  All residents asked to 'shelter in place' are ...   \n",
       "3   6     NaN      NaN  13,000 people receive #wildfires evacuation or...   \n",
       "4   7     NaN      NaN  Just got sent this photo from Ruby #Alaska as ...   \n",
       "\n",
       "   target  \n",
       "0       1  \n",
       "1       1  \n",
       "2       1  \n",
       "3       1  \n",
       "4       1  "
      ]
     },
     "execution_count": 2,
     "metadata": {},
     "output_type": "execute_result"
    }
   ],
   "source": [
    "df = pd.read_csv('/kaggle/input/nlp-getting-started/train.csv')\n",
    "df.head()"
   ]
  },
  {
   "cell_type": "code",
   "execution_count": 3,
   "metadata": {
    "execution": {
     "iopub.execute_input": "2021-01-22T14:53:53.234541Z",
     "iopub.status.busy": "2021-01-22T14:53:53.233872Z",
     "iopub.status.idle": "2021-01-22T14:53:53.395649Z",
     "shell.execute_reply": "2021-01-22T14:53:53.394432Z"
    },
    "papermill": {
     "duration": 0.202156,
     "end_time": "2021-01-22T14:53:53.395811",
     "exception": false,
     "start_time": "2021-01-22T14:53:53.193655",
     "status": "completed"
    },
    "tags": []
   },
   "outputs": [
    {
     "data": {
      "image/png": "[encoded data removed]",
      "text/plain": [
       "<Figure size 432x288 with 1 Axes>"
      ]
     },
     "metadata": {
      "needs_background": "light"
     },
     "output_type": "display_data"
    }
   ],
   "source": [
    "ax = sns.countplot(x=\"target\", data=df)"
   ]
  },
  {
   "cell_type": "markdown",
   "metadata": {
    "papermill": {
     "duration": 0.033808,
     "end_time": "2021-01-22T14:53:53.463425",
     "exception": false,
     "start_time": "2021-01-22T14:53:53.429617",
     "status": "completed"
    },
    "tags": []
   },
   "source": [
    "There is no class imbalance in the distribution of target variable."
   ]
  },
  {
   "cell_type": "markdown",
   "metadata": {
    "papermill": {
     "duration": 0.03275,
     "end_time": "2021-01-22T14:53:53.530130",
     "exception": false,
     "start_time": "2021-01-22T14:53:53.497380",
     "status": "completed"
    },
    "tags": []
   },
   "source": [
    "# Data Clensing"
   ]
  },
  {
   "cell_type": "markdown",
   "metadata": {
    "papermill": {
     "duration": 0.032924,
     "end_time": "2021-01-22T14:53:53.597879",
     "exception": false,
     "start_time": "2021-01-22T14:53:53.564955",
     "status": "completed"
    },
    "tags": []
   },
   "source": [
    "We are using custom functions to perform the following tasks. Cleaning up the data for modeling should be carried out carefully and with the help of subject matter experts, if possible. This cleaning is done completely based on observation, and can not be considered as a generic preprocessing step for all the NLP tasks. This preprocessing function ensures:"
   ]
  },
  {
   "cell_type": "markdown",
   "metadata": {
    "papermill": {
     "duration": 0.033343,
     "end_time": "2021-01-22T14:53:53.665360",
     "exception": false,
     "start_time": "2021-01-22T14:53:53.632017",
     "status": "completed"
    },
    "tags": []
   },
   "source": [
    "* Removing urls from tweet\n",
    "* Removing html tags\n",
    "* Removing punctuations\n",
    "* Removing stopwords\n",
    "* Removing emoji\n",
    "* Replacing misspelled words (For using pretrained word embeddings)"
   ]
  },
  {
   "cell_type": "code",
   "execution_count": 4,
   "metadata": {
    "execution": {
     "iopub.execute_input": "2021-01-22T14:53:53.739360Z",
     "iopub.status.busy": "2021-01-22T14:53:53.737322Z",
     "iopub.status.idle": "2021-01-22T14:53:53.749059Z",
     "shell.execute_reply": "2021-01-22T14:53:53.749792Z"
    },
    "papermill": {
     "duration": 0.050397,
     "end_time": "2021-01-22T14:53:53.750024",
     "exception": false,
     "start_time": "2021-01-22T14:53:53.699627",
     "status": "completed"
    },
    "tags": []
   },
   "outputs": [],
   "source": [
    "def clean_text(text):\n",
    "    \n",
    "    sw = stopwords.words('english')\n",
    "    \n",
    "    text = re.sub(r\"[^a-zA-Z?.!,¿]+\", \" \", text) # replacing everything with space except (a-z, A-Z, \".\", \"?\", \"!\", \",\")\n",
    "\n",
    "    text = re.sub(r\"http\\S+\", \"\",text) #Removing URLs \n",
    "    #text = re.sub(r\"http\", \"\",text)\n",
    "    \n",
    "    html=re.compile(r'<.*?>') \n",
    "    \n",
    "    text = html.sub(r'',text) #Removing html tags\n",
    "    \n",
    "    punctuations = '@#!?+&*[]-%.:/();$=><|{}^' + \"'`\" + '_'\n",
    "    for p in punctuations:\n",
    "        text = text.replace(p,'') #Removing punctuations\n",
    "        \n",
    "    text = [word.lower() for word in text.split() if word.lower() not in sw]\n",
    "    \n",
    "    text = \" \".join(text) #removing stopwords\n",
    "    \n",
    "    emoji_pattern = re.compile(\"[\"\n",
    "                           u\"\\U0001F600-\\U0001F64F\"  # emoticons\n",
    "                           u\"\\U0001F300-\\U0001F5FF\"  # symbols & pictographs\n",
    "                           u\"\\U0001F680-\\U0001F6FF\"  # transport & map symbols\n",
    "                           u\"\\U0001F1E0-\\U0001F1FF\"  # flags (iOS)\n",
    "                           u\"\\U00002702-\\U000027B0\"\n",
    "                           u\"\\U000024C2-\\U0001F251\"\n",
    "                           \"]+\", flags=re.UNICODE)\n",
    "    text = emoji_pattern.sub(r'', text) #Removing emojis\n",
    "    \n",
    "    return text\n"
   ]
  },
  {
   "cell_type": "code",
   "execution_count": 5,
   "metadata": {
    "execution": {
     "iopub.execute_input": "2021-01-22T14:53:53.856024Z",
     "iopub.status.busy": "2021-01-22T14:53:53.855076Z",
     "iopub.status.idle": "2021-01-22T14:53:53.875389Z",
     "shell.execute_reply": "2021-01-22T14:53:53.876086Z"
    },
    "papermill": {
     "duration": 0.075404,
     "end_time": "2021-01-22T14:53:53.876278",
     "exception": false,
     "start_time": "2021-01-22T14:53:53.800874",
     "status": "completed"
    },
    "tags": []
   },
   "outputs": [],
   "source": [
    "mispell_dict = {\"ain't\": \"is not\", \"aren't\": \"are not\",\"can't\": \"cannot\", \"could've\": \"could have\", \"couldn't\": \"could not\", \"didn't\": \"did not\",  \"doesn't\": \"does not\", \"don't\": \"do not\", \"hadn't\": \"had not\", \"hasn't\": \"has not\", \"haven't\": \"have not\", \"he'd\": \"he would\",\"he'll\": \"he will\", \"he's\": \"he is\", \"how'd\": \"how did\", \"how'd'y\": \"how do you\", \"how'll\": \"how will\", \"how's\": \"how is\",  \"I'd\": \"I would\", \"I'd've\": \"I would have\", \"I'll\": \"I will\", \"I'll've\": \"I will have\",\"I'm\": \"I am\", \"I've\": \"I have\", \"i'd\": \"i would\", \"i'd've\": \"i would have\", \"i'll\": \"i will\",  \"i'll've\": \"i will have\",\"i'm\": \"i am\", \"i've\": \"i have\", \"isn't\": \"is not\", \"it'd\": \"it would\", \"it'd've\": \"it would have\", \"it'll\": \"it will\", \"it'll've\": \"it will have\",\"it's\": \"it is\", \"let's\": \"let us\", \"ma'am\": \"madam\", \"mayn't\": \"may not\", \"might've\": \"might have\",\"mightn't\": \"might not\",\"mightn't've\": \"might not have\", \"must've\": \"must have\", \"mustn't\": \"must not\", \"mustn't've\": \"must not have\", \"needn't\": \"need not\", \"needn't've\": \"need not have\",\"o'clock\": \"of the clock\", \"oughtn't\": \"ought not\", \"oughtn't've\": \"ought not have\", \"shan't\": \"shall not\", \"sha'n't\": \"shall not\", \"shan't've\": \"shall not have\", \"she'd\": \"she would\", \"she'd've\": \"she would have\", \"she'll\": \"she will\", \"she'll've\": \"she will have\", \"she's\": \"she is\", \"should've\": \"should have\", \"shouldn't\": \"should not\", \"shouldn't've\": \"should not have\", \"so've\": \"so have\",\"so's\": \"so as\", \"this's\": \"this is\",\"that'd\": \"that would\", \"that'd've\": \"that would have\", \"that's\": \"that is\", \"there'd\": \"there would\", \"there'd've\": \"there would have\", \"there's\": \"there is\", \"here's\": \"here is\",\"they'd\": \"they would\", \"they'd've\": \"they would have\", \"they'll\": \"they will\", \"they'll've\": \"they will have\", \"they're\": \"they are\", \"they've\": \"they have\", \"to've\": \"to have\", \"wasn't\": \"was not\", \"we'd\": \"we would\", \"we'd've\": \"we would have\", \"we'll\": \"we will\", \"we'll've\": \"we will have\", \"we're\": \"we are\", \"we've\": \"we have\", \"weren't\": \"were not\", \"what'll\": \"what will\", \"what'll've\": \"what will have\", \"what're\": \"what are\",  \"what's\": \"what is\", \"what've\": \"what have\", \"when's\": \"when is\", \"when've\": \"when have\", \"where'd\": \"where did\", \"where's\": \"where is\", \"where've\": \"where have\", \"who'll\": \"who will\", \"who'll've\": \"who will have\", \"who's\": \"who is\", \"who've\": \"who have\", \"why's\": \"why is\", \"why've\": \"why have\", \"will've\": \"will have\", \"won't\": \"will not\", \"won't've\": \"will not have\", \"would've\": \"would have\", \"wouldn't\": \"would not\", \"wouldn't've\": \"would not have\", \"y'all\": \"you all\", \"y'all'd\": \"you all would\",\"y'all'd've\": \"you all would have\",\"y'all're\": \"you all are\",\"y'all've\": \"you all have\",\"you'd\": \"you would\", \"you'd've\": \"you would have\", \"you'll\": \"you will\", \"you'll've\": \"you will have\", \"you're\": \"you are\", \"you've\": \"you have\", 'colour': 'color', 'centre': 'center', 'favourite': 'favorite', 'travelling': 'traveling', 'counselling': 'counseling', 'theatre': 'theater', 'cancelled': 'canceled', 'labour': 'labor', 'organisation': 'organization', 'wwii': 'world war 2', 'citicise': 'criticize', 'youtu ': 'youtube ', 'Qoura': 'Quora', 'sallary': 'salary', 'Whta': 'What', 'narcisist': 'narcissist', 'howdo': 'how do', 'whatare': 'what are', 'howcan': 'how can', 'howmuch': 'how much', 'howmany': 'how many', 'whydo': 'why do', 'doI': 'do I', 'theBest': 'the best', 'howdoes': 'how does', 'mastrubation': 'masturbation', 'mastrubate': 'masturbate', \"mastrubating\": 'masturbating', 'pennis': 'penis', 'Etherium': 'Ethereum', 'narcissit': 'narcissist', 'bigdata': 'big data', '2k17': '2017', '2k18': '2018', 'qouta': 'quota', 'exboyfriend': 'ex boyfriend', 'airhostess': 'air hostess', \"whst\": 'what', 'watsapp': 'whatsapp', 'demonitisation': 'demonetization', 'demonitization': 'demonetization', 'demonetisation': 'demonetization'}"
   ]
  },
  {
   "cell_type": "markdown",
   "metadata": {
    "papermill": {
     "duration": 0.0492,
     "end_time": "2021-01-22T14:53:53.975009",
     "exception": false,
     "start_time": "2021-01-22T14:53:53.925809",
     "status": "completed"
    },
    "tags": []
   },
   "source": [
    "Reference - https://www.kaggle.com/mlwhiz/textcnn-pytorch-and-keras"
   ]
  },
  {
   "cell_type": "code",
   "execution_count": 6,
   "metadata": {
    "execution": {
     "iopub.execute_input": "2021-01-22T14:53:54.094211Z",
     "iopub.status.busy": "2021-01-22T14:53:54.089863Z",
     "iopub.status.idle": "2021-01-22T14:53:54.099198Z",
     "shell.execute_reply": "2021-01-22T14:53:54.098428Z"
    },
    "papermill": {
     "duration": 0.069264,
     "end_time": "2021-01-22T14:53:54.099364",
     "exception": false,
     "start_time": "2021-01-22T14:53:54.030100",
     "status": "completed"
    },
    "tags": []
   },
   "outputs": [],
   "source": [
    "def _get_mispell(mispell_dict):\n",
    "    mispell_re = re.compile('(%s)' % '|'.join(mispell_dict.keys()))\n",
    "    return mispell_dict, mispell_re\n",
    "\n",
    "mispellings, mispellings_re = _get_mispell(mispell_dict)\n",
    "def replace_misspell(text):\n",
    "    def replace(match):\n",
    "        return mispellings[match.group(0)]\n",
    "    return mispellings_re.sub(replace, text)"
   ]
  },
  {
   "cell_type": "code",
   "execution_count": 7,
   "metadata": {
    "execution": {
     "iopub.execute_input": "2021-01-22T14:53:54.206376Z",
     "iopub.status.busy": "2021-01-22T14:53:54.205493Z",
     "iopub.status.idle": "2021-01-22T14:53:56.199942Z",
     "shell.execute_reply": "2021-01-22T14:53:56.199335Z"
    },
    "papermill": {
     "duration": 2.048693,
     "end_time": "2021-01-22T14:53:56.200070",
     "exception": false,
     "start_time": "2021-01-22T14:53:54.151377",
     "status": "completed"
    },
    "tags": []
   },
   "outputs": [
    {
     "data": {
      "text/html": [
       "<div>\n",
       "<style scoped>\n",
       "    .dataframe tbody tr th:only-of-type {\n",
       "        vertical-align: middle;\n",
       "    }\n",
       "\n",
       "    .dataframe tbody tr th {\n",
       "        vertical-align: top;\n",
       "    }\n",
       "\n",
       "    .dataframe thead th {\n",
       "        text-align: right;\n",
       "    }\n",
       "</style>\n",
       "<table border=\"1\" class=\"dataframe\">\n",
       "  <thead>\n",
       "    <tr style=\"text-align: right;\">\n",
       "      <th></th>\n",
       "      <th>id</th>\n",
       "      <th>keyword</th>\n",
       "      <th>location</th>\n",
       "      <th>text</th>\n",
       "      <th>target</th>\n",
       "    </tr>\n",
       "  </thead>\n",
       "  <tbody>\n",
       "    <tr>\n",
       "      <th>0</th>\n",
       "      <td>1</td>\n",
       "      <td>NaN</td>\n",
       "      <td>NaN</td>\n",
       "      <td>deeds reason earthquake may allah forgive us</td>\n",
       "      <td>1</td>\n",
       "    </tr>\n",
       "    <tr>\n",
       "      <th>1</th>\n",
       "      <td>4</td>\n",
       "      <td>NaN</td>\n",
       "      <td>NaN</td>\n",
       "      <td>forest fire near la ronge sask canada</td>\n",
       "      <td>1</td>\n",
       "    </tr>\n",
       "    <tr>\n",
       "      <th>2</th>\n",
       "      <td>5</td>\n",
       "      <td>NaN</td>\n",
       "      <td>NaN</td>\n",
       "      <td>residents asked shelter place notified officer...</td>\n",
       "      <td>1</td>\n",
       "    </tr>\n",
       "    <tr>\n",
       "      <th>3</th>\n",
       "      <td>6</td>\n",
       "      <td>NaN</td>\n",
       "      <td>NaN</td>\n",
       "      <td>, people receive wildfires evacuation orders c...</td>\n",
       "      <td>1</td>\n",
       "    </tr>\n",
       "    <tr>\n",
       "      <th>4</th>\n",
       "      <td>7</td>\n",
       "      <td>NaN</td>\n",
       "      <td>NaN</td>\n",
       "      <td>got sent photo ruby alaska smoke wildfires pou...</td>\n",
       "      <td>1</td>\n",
       "    </tr>\n",
       "  </tbody>\n",
       "</table>\n",
       "</div>"
      ],
      "text/plain": [
       "   id keyword location                                               text  \\\n",
       "0   1     NaN      NaN       deeds reason earthquake may allah forgive us   \n",
       "1   4     NaN      NaN              forest fire near la ronge sask canada   \n",
       "2   5     NaN      NaN  residents asked shelter place notified officer...   \n",
       "3   6     NaN      NaN  , people receive wildfires evacuation orders c...   \n",
       "4   7     NaN      NaN  got sent photo ruby alaska smoke wildfires pou...   \n",
       "\n",
       "   target  \n",
       "0       1  \n",
       "1       1  \n",
       "2       1  \n",
       "3       1  \n",
       "4       1  "
      ]
     },
     "execution_count": 7,
     "metadata": {},
     "output_type": "execute_result"
    }
   ],
   "source": [
    "df['text'] = df['text'].str.lower()\n",
    "df['text'] = df['text'].apply(lambda x: clean_text(x))\n",
    "df['text'] = df['text'].apply(lambda x: replace_misspell(x))\n",
    "\n",
    " \n",
    "df.head()"
   ]
  },
  {
   "cell_type": "markdown",
   "metadata": {
    "papermill": {
     "duration": 0.034479,
     "end_time": "2021-01-22T14:53:56.269412",
     "exception": false,
     "start_time": "2021-01-22T14:53:56.234933",
     "status": "completed"
    },
    "tags": []
   },
   "source": [
    "Now,Like any supervised machine learning problem,we are spliting the dataset to train,test and validation sets."
   ]
  },
  {
   "cell_type": "code",
   "execution_count": 8,
   "metadata": {
    "execution": {
     "iopub.execute_input": "2021-01-22T14:53:56.349071Z",
     "iopub.status.busy": "2021-01-22T14:53:56.348305Z",
     "iopub.status.idle": "2021-01-22T14:53:56.354122Z",
     "shell.execute_reply": "2021-01-22T14:53:56.354616Z"
    },
    "papermill": {
     "duration": 0.049957,
     "end_time": "2021-01-22T14:53:56.354805",
     "exception": false,
     "start_time": "2021-01-22T14:53:56.304848",
     "status": "completed"
    },
    "tags": []
   },
   "outputs": [],
   "source": [
    "x_train,x_test,y_train,y_test=train_test_split(df['text'].values,df['target'].values,test_size=0.2,random_state=123)\n",
    "x_train,x_val,y_train,y_val=train_test_split(x_train,y_train,test_size=0.1,random_state=123)"
   ]
  },
  {
   "cell_type": "markdown",
   "metadata": {
    "papermill": {
     "duration": 0.03539,
     "end_time": "2021-01-22T14:53:56.425079",
     "exception": false,
     "start_time": "2021-01-22T14:53:56.389689",
     "status": "completed"
    },
    "tags": []
   },
   "source": [
    "# Tokenization\n",
    "\n",
    "References\n",
    "1. https://www.analyticsvidhya.com/blog/2020/05/what-is-tokenization-nlp/\n",
    "2. https://www.analyticsvidhya.com/blog/2019/07/how-get-started-nlp-6-unique-ways-perform-tokenization/\n",
    "\n",
    "\n",
    "\n",
    "Tokenization is a common task in NLP. This is the process of spliting of sentences to basic input unit. Ultimate aim of tokenization is to built a vocabulary. Vocabulary is the unique set of all the tokens. Tokenization can be be performed on:\n",
    "\n",
    "* character level\n",
    "* subword level\n",
    "* word level\n",
    "\n",
    "**Word Tokenization** is the most commonly used tokenization algorithm, this is because of the availabity of pretrained word embeddings. Pretrained word embeddings are trained on a large volume of corpous, hence large vocabulary.\n",
    "\n",
    "A problem with word tokenization is that the presence of **OOV**(Out of vocabulary) words. OOV words refer to the new words which are encountered at testing. These new words do not exist in the vocabulary. Hence, these methods fail in handling OOV words. One way to handle OOV words is to form the vocabulary with the Top K Frequent Words and replace the rare words in training data with unknown tokens (UNK). This helps the model to learn the representation of OOV words in terms of UNK tokens. So, during test time, any word that is not present in the vocabulary will be mapped to a UNK token. This is how we can tackle the problem of OOV in word tokenizers. The problem with this approach is that the entire information of the word is lost as we are mapping OOV to UNK tokens. The structure of the word might be helpful in representing the word accurately. And another issue is that every OOV word gets the same representation.\n",
    "\n",
    "**character Tokenization** splits a piece of text into a set of characters. Character level tokenization will have fixed vocabulary (26 characters + digits + special characters). The inputs increases verymuch and it will be challenging to learn the meaning of words from the character level tokens.\n",
    "\n",
    "**Subword Tokenization** splits the piece of text into subwords (or n-gram characters). Transformed based models rely on Subword Tokenization algorithms for preparing vocabulary. There are different types of subword tokenization such as **BPE (Byte Pair Encoding)** ."
   ]
  },
  {
   "cell_type": "markdown",
   "metadata": {
    "papermill": {
     "duration": 0.034377,
     "end_time": "2021-01-22T14:53:56.494417",
     "exception": false,
     "start_time": "2021-01-22T14:53:56.460040",
     "status": "completed"
    },
    "tags": []
   },
   "source": [
    "We will be using word level tokenization, Using **Tensorflow Keras Tokenizer API**. <br> \n",
    "\n",
    "Ref - https://www.tensorflow.org/api_docs/python/tf/keras/preprocessing/text/Tokenizer"
   ]
  },
  {
   "cell_type": "code",
   "execution_count": 9,
   "metadata": {
    "execution": {
     "iopub.execute_input": "2021-01-22T14:53:56.579403Z",
     "iopub.status.busy": "2021-01-22T14:53:56.574088Z",
     "iopub.status.idle": "2021-01-22T14:53:56.721369Z",
     "shell.execute_reply": "2021-01-22T14:53:56.720350Z"
    },
    "papermill": {
     "duration": 0.191461,
     "end_time": "2021-01-22T14:53:56.721485",
     "exception": false,
     "start_time": "2021-01-22T14:53:56.530024",
     "status": "completed"
    },
    "tags": []
   },
   "outputs": [],
   "source": [
    "tokenizer = Tokenizer(num_words=None)\n",
    "tokenizer.fit_on_texts(x_train)\n",
    "\n",
    "word_index = tokenizer.word_index\n",
    "num_words = len(tokenizer.word_index) + 1"
   ]
  },
  {
   "cell_type": "markdown",
   "metadata": {
    "papermill": {
     "duration": 0.034071,
     "end_time": "2021-01-22T14:53:56.792506",
     "exception": false,
     "start_time": "2021-01-22T14:53:56.758435",
     "status": "completed"
    },
    "tags": []
   },
   "source": [
    "We bulit dictionary based on tokens in training set. We can perform a variety of preprocessing using the tokenizer class, without writing custom functions. We will analyse the model performance based on this limited vocabulary, with OOV tokens in test and validation sets."
   ]
  },
  {
   "cell_type": "markdown",
   "metadata": {
    "papermill": {
     "duration": 0.034192,
     "end_time": "2021-01-22T14:53:56.861207",
     "exception": false,
     "start_time": "2021-01-22T14:53:56.827015",
     "status": "completed"
    },
    "tags": []
   },
   "source": [
    "### Converting text to sequences"
   ]
  },
  {
   "cell_type": "markdown",
   "metadata": {
    "papermill": {
     "duration": 0.033672,
     "end_time": "2021-01-22T14:53:56.929097",
     "exception": false,
     "start_time": "2021-01-22T14:53:56.895425",
     "status": "completed"
    },
    "tags": []
   },
   "source": [
    "Tokenizer class maps the tokens to unique numbers. In a sequential learning problem, every sentence is inputed as sequence of numbers. The prebuilt function 'texts_to_sequences' in tensorflow helps to convert sentences to sequence of numbers. We all know that sentences can be of variable length. We use padding, to make sentence constant length. We add 0's either before or after every sequence, to match the maximum sequence length. "
   ]
  },
  {
   "cell_type": "code",
   "execution_count": 10,
   "metadata": {
    "execution": {
     "iopub.execute_input": "2021-01-22T14:53:57.010338Z",
     "iopub.status.busy": "2021-01-22T14:53:57.008829Z",
     "iopub.status.idle": "2021-01-22T14:53:57.192670Z",
     "shell.execute_reply": "2021-01-22T14:53:57.191899Z"
    },
    "papermill": {
     "duration": 0.228239,
     "end_time": "2021-01-22T14:53:57.192815",
     "exception": false,
     "start_time": "2021-01-22T14:53:56.964576",
     "status": "completed"
    },
    "tags": []
   },
   "outputs": [],
   "source": [
    "train_sequences = tokenizer.texts_to_sequences(x_train)\n",
    "train_padded = tf.keras.preprocessing.sequence.pad_sequences(train_sequences,padding='post')\n",
    "\n",
    "max_len = len(train_padded[0])\n",
    "\n",
    "validation_sequences = tokenizer.texts_to_sequences(x_val)\n",
    "validation_padded = tf.keras.preprocessing.sequence.pad_sequences(validation_sequences,padding='post',maxlen=max_len)\n",
    "\n",
    "test_sequences = tokenizer.texts_to_sequences(x_test)\n",
    "test_padded = tf.keras.preprocessing.sequence.pad_sequences(test_sequences,padding='post',maxlen=max_len)"
   ]
  },
  {
   "cell_type": "markdown",
   "metadata": {
    "papermill": {
     "duration": 0.034106,
     "end_time": "2021-01-22T14:53:57.263127",
     "exception": false,
     "start_time": "2021-01-22T14:53:57.229021",
     "status": "completed"
    },
    "tags": []
   },
   "source": [
    "## Model Using tf.Keras"
   ]
  },
  {
   "cell_type": "markdown",
   "metadata": {
    "papermill": {
     "duration": 0.034302,
     "end_time": "2021-01-22T14:53:57.332285",
     "exception": false,
     "start_time": "2021-01-22T14:53:57.297983",
     "status": "completed"
    },
    "tags": []
   },
   "source": [
    "## Embedding layer"
   ]
  },
  {
   "cell_type": "markdown",
   "metadata": {
    "papermill": {
     "duration": 0.034604,
     "end_time": "2021-01-22T14:53:57.401905",
     "exception": false,
     "start_time": "2021-01-22T14:53:57.367301",
     "status": "completed"
    },
    "tags": []
   },
   "source": [
    "Transfers one-hot word vectors to dense vectors. One way is to use pre-defined embedding layers such as word2vec or glove, which are calculated on a huge amount of data such as Wikepedia. Another way is to calculate the embedding layer while training. Here the embedding vectors change after each timestep of training. For calculating training embedding, we can either use pre-defined embedding values initially or train from scratch.\n",
    "\n",
    "We will built our first model training on the sequences we generated earlier."
   ]
  },
  {
   "cell_type": "code",
   "execution_count": 11,
   "metadata": {
    "execution": {
     "iopub.execute_input": "2021-01-22T14:53:57.481012Z",
     "iopub.status.busy": "2021-01-22T14:53:57.480330Z",
     "iopub.status.idle": "2021-01-22T14:53:58.045852Z",
     "shell.execute_reply": "2021-01-22T14:53:58.045130Z"
    },
    "papermill": {
     "duration": 0.609562,
     "end_time": "2021-01-22T14:53:58.045995",
     "exception": false,
     "start_time": "2021-01-22T14:53:57.436433",
     "status": "completed"
    },
    "tags": []
   },
   "outputs": [],
   "source": [
    "model = tf.keras.Sequential([\n",
    "tf.keras.layers.Embedding(num_words, 100,mask_zero=True),\n",
    "#tf.keras.layers.LSTM(64),\n",
    "tf.keras.layers.Bidirectional(tf.keras.layers.LSTM(64,recurrent_dropout=0.1)),\n",
    "tf.keras.layers.Dense(64, activation='relu'),\n",
    "tf.keras.layers.Dense(1, activation='sigmoid')\n",
    "])\n",
    "\n",
    "model.compile(loss='binary_crossentropy',optimizer=tf.keras.optimizers.Adam(1e-4),metrics=['accuracy'])"
   ]
  },
  {
   "cell_type": "code",
   "execution_count": 12,
   "metadata": {
    "execution": {
     "iopub.execute_input": "2021-01-22T14:53:58.146087Z",
     "iopub.status.busy": "2021-01-22T14:53:58.145067Z",
     "iopub.status.idle": "2021-01-22T14:53:58.162045Z",
     "shell.execute_reply": "2021-01-22T14:53:58.161117Z"
    },
    "papermill": {
     "duration": 0.066217,
     "end_time": "2021-01-22T14:53:58.162206",
     "exception": false,
     "start_time": "2021-01-22T14:53:58.095989",
     "status": "completed"
    },
    "tags": []
   },
   "outputs": [
    {
     "name": "stdout",
     "output_type": "stream",
     "text": [
      "Model: \"sequential\"\n",
      "_________________________________________________________________\n",
      "Layer (type)                 Output Shape              Param #   \n",
      "=================================================================\n",
      "embedding (Embedding)        (None, None, 100)         1765200   \n",
      "_________________________________________________________________\n",
      "bidirectional (Bidirectional (None, 128)               84480     \n",
      "_________________________________________________________________\n",
      "dense (Dense)                (None, 64)                8256      \n",
      "_________________________________________________________________\n",
      "dense_1 (Dense)              (None, 1)                 65        \n",
      "=================================================================\n",
      "Total params: 1,858,001\n",
      "Trainable params: 1,858,001\n",
      "Non-trainable params: 0\n",
      "_________________________________________________________________\n"
     ]
    }
   ],
   "source": [
    "model.summary()"
   ]
  },
  {
   "cell_type": "code",
   "execution_count": 13,
   "metadata": {
    "execution": {
     "iopub.execute_input": "2021-01-22T14:53:58.247239Z",
     "iopub.status.busy": "2021-01-22T14:53:58.246587Z",
     "iopub.status.idle": "2021-01-22T14:53:58.251563Z",
     "shell.execute_reply": "2021-01-22T14:53:58.250819Z"
    },
    "papermill": {
     "duration": 0.044855,
     "end_time": "2021-01-22T14:53:58.251737",
     "exception": false,
     "start_time": "2021-01-22T14:53:58.206882",
     "status": "completed"
    },
    "tags": []
   },
   "outputs": [],
   "source": [
    "num_epochs = 30"
   ]
  },
  {
   "cell_type": "code",
   "execution_count": 14,
   "metadata": {
    "execution": {
     "iopub.execute_input": "2021-01-22T14:53:58.367947Z",
     "iopub.status.busy": "2021-01-22T14:53:58.367245Z",
     "iopub.status.idle": "2021-01-22T14:59:56.569279Z",
     "shell.execute_reply": "2021-01-22T14:59:56.569881Z"
    },
    "papermill": {
     "duration": 358.26324,
     "end_time": "2021-01-22T14:59:56.570019",
     "exception": false,
     "start_time": "2021-01-22T14:53:58.306779",
     "status": "completed"
    },
    "tags": []
   },
   "outputs": [
    {
     "name": "stdout",
     "output_type": "stream",
     "text": [
      "Epoch 1/30\n",
      "172/172 - 12s - loss: 0.6878 - accuracy: 0.5641 - val_loss: 0.6767 - val_accuracy: 0.5961\n",
      "Epoch 2/30\n",
      "172/172 - 11s - loss: 0.5767 - accuracy: 0.7490 - val_loss: 0.5185 - val_accuracy: 0.7915\n",
      "Epoch 3/30\n",
      "172/172 - 12s - loss: 0.3257 - accuracy: 0.8878 - val_loss: 0.5046 - val_accuracy: 0.7964\n",
      "Epoch 4/30\n",
      "172/172 - 12s - loss: 0.1955 - accuracy: 0.9383 - val_loss: 0.5818 - val_accuracy: 0.7750\n",
      "Epoch 5/30\n",
      "172/172 - 12s - loss: 0.1219 - accuracy: 0.9637 - val_loss: 0.7032 - val_accuracy: 0.7652\n",
      "Epoch 6/30\n",
      "172/172 - 12s - loss: 0.0807 - accuracy: 0.9763 - val_loss: 0.7994 - val_accuracy: 0.7652\n",
      "Epoch 7/30\n",
      "172/172 - 11s - loss: 0.0584 - accuracy: 0.9849 - val_loss: 0.9516 - val_accuracy: 0.7586\n",
      "Epoch 8/30\n",
      "172/172 - 12s - loss: 0.0472 - accuracy: 0.9892 - val_loss: 1.0242 - val_accuracy: 0.7570\n",
      "Epoch 9/30\n",
      "172/172 - 12s - loss: 0.0398 - accuracy: 0.9907 - val_loss: 1.1385 - val_accuracy: 0.7373\n",
      "Epoch 10/30\n",
      "172/172 - 12s - loss: 0.0322 - accuracy: 0.9934 - val_loss: 1.1955 - val_accuracy: 0.7504\n",
      "Epoch 11/30\n",
      "172/172 - 12s - loss: 0.0287 - accuracy: 0.9947 - val_loss: 1.3110 - val_accuracy: 0.7438\n",
      "Epoch 12/30\n",
      "172/172 - 12s - loss: 0.0231 - accuracy: 0.9951 - val_loss: 1.3429 - val_accuracy: 0.7471\n",
      "Epoch 13/30\n",
      "172/172 - 12s - loss: 0.0234 - accuracy: 0.9942 - val_loss: 1.4312 - val_accuracy: 0.7504\n",
      "Epoch 14/30\n",
      "172/172 - 12s - loss: 0.0182 - accuracy: 0.9964 - val_loss: 1.4674 - val_accuracy: 0.7422\n",
      "Epoch 15/30\n",
      "172/172 - 12s - loss: 0.0186 - accuracy: 0.9953 - val_loss: 1.5345 - val_accuracy: 0.7356\n",
      "Epoch 16/30\n",
      "172/172 - 12s - loss: 0.0189 - accuracy: 0.9960 - val_loss: 1.5788 - val_accuracy: 0.7521\n",
      "Epoch 17/30\n",
      "172/172 - 12s - loss: 0.0169 - accuracy: 0.9964 - val_loss: 1.6034 - val_accuracy: 0.7422\n",
      "Epoch 18/30\n",
      "172/172 - 12s - loss: 0.0156 - accuracy: 0.9962 - val_loss: 1.6131 - val_accuracy: 0.7438\n",
      "Epoch 19/30\n",
      "172/172 - 12s - loss: 0.0130 - accuracy: 0.9965 - val_loss: 1.6565 - val_accuracy: 0.7406\n",
      "Epoch 20/30\n",
      "172/172 - 12s - loss: 0.0129 - accuracy: 0.9965 - val_loss: 1.7199 - val_accuracy: 0.7504\n",
      "Epoch 21/30\n",
      "172/172 - 12s - loss: 0.0136 - accuracy: 0.9958 - val_loss: 1.7753 - val_accuracy: 0.7455\n",
      "Epoch 22/30\n",
      "172/172 - 12s - loss: 0.0114 - accuracy: 0.9969 - val_loss: 1.7978 - val_accuracy: 0.7455\n",
      "Epoch 23/30\n",
      "172/172 - 12s - loss: 0.0165 - accuracy: 0.9958 - val_loss: 1.7315 - val_accuracy: 0.7455\n",
      "Epoch 24/30\n",
      "172/172 - 11s - loss: 0.0217 - accuracy: 0.9951 - val_loss: 1.7604 - val_accuracy: 0.7455\n",
      "Epoch 25/30\n",
      "172/172 - 12s - loss: 0.0103 - accuracy: 0.9967 - val_loss: 1.8093 - val_accuracy: 0.7455\n",
      "Epoch 26/30\n",
      "172/172 - 11s - loss: 0.0096 - accuracy: 0.9971 - val_loss: 1.7967 - val_accuracy: 0.7471\n",
      "Epoch 27/30\n",
      "172/172 - 12s - loss: 0.0098 - accuracy: 0.9958 - val_loss: 1.8270 - val_accuracy: 0.7438\n",
      "Epoch 28/30\n",
      "172/172 - 11s - loss: 0.0094 - accuracy: 0.9958 - val_loss: 1.8924 - val_accuracy: 0.7471\n",
      "Epoch 29/30\n",
      "172/172 - 11s - loss: 0.0087 - accuracy: 0.9960 - val_loss: 1.8881 - val_accuracy: 0.7406\n",
      "Epoch 30/30\n",
      "172/172 - 12s - loss: 0.0081 - accuracy: 0.9965 - val_loss: 1.9401 - val_accuracy: 0.7471\n"
     ]
    }
   ],
   "source": [
    "history = model.fit(train_padded, y_train, epochs=num_epochs,validation_data=(validation_padded, y_val), verbose=2)"
   ]
  },
  {
   "cell_type": "code",
   "execution_count": 15,
   "metadata": {
    "execution": {
     "iopub.execute_input": "2021-01-22T14:59:56.689230Z",
     "iopub.status.busy": "2021-01-22T14:59:56.688485Z",
     "iopub.status.idle": "2021-01-22T14:59:57.722683Z",
     "shell.execute_reply": "2021-01-22T14:59:57.723824Z"
    },
    "papermill": {
     "duration": 1.09717,
     "end_time": "2021-01-22T14:59:57.724098",
     "exception": false,
     "start_time": "2021-01-22T14:59:56.626928",
     "status": "completed"
    },
    "tags": []
   },
   "outputs": [],
   "source": [
    "y_pred = model.predict_classes(test_padded)"
   ]
  },
  {
   "cell_type": "code",
   "execution_count": 16,
   "metadata": {
    "execution": {
     "iopub.execute_input": "2021-01-22T14:59:57.847139Z",
     "iopub.status.busy": "2021-01-22T14:59:57.846456Z",
     "iopub.status.idle": "2021-01-22T14:59:58.039951Z",
     "shell.execute_reply": "2021-01-22T14:59:58.039249Z"
    },
    "papermill": {
     "duration": 0.258529,
     "end_time": "2021-01-22T14:59:58.040064",
     "exception": false,
     "start_time": "2021-01-22T14:59:57.781535",
     "status": "completed"
    },
    "tags": []
   },
   "outputs": [
    {
     "data": {
      "image/png": "[encoded data removed]",
      "text/plain": [
       "<Figure size 432x288 with 2 Axes>"
      ]
     },
     "metadata": {
      "needs_background": "light"
     },
     "output_type": "display_data"
    }
   ],
   "source": [
    "cnf_matrix = confusion_matrix(y_test,y_pred)\n",
    "group_names = ['TN','FP','FN','TP']\n",
    "group_counts = [\"{0:0.0f}\".format(value) for value in cnf_matrix.flatten()]\n",
    "labels = [f\"{v1}\\n{v2}\" for v1, v2 in zip(group_names,group_counts)]\n",
    "labels = np.asarray(labels).reshape(2,2)\n",
    "sns.heatmap(cnf_matrix, annot=labels, fmt='', cmap='Blues');"
   ]
  },
  {
   "cell_type": "code",
   "execution_count": 17,
   "metadata": {
    "execution": {
     "iopub.execute_input": "2021-01-22T14:59:58.162440Z",
     "iopub.status.busy": "2021-01-22T14:59:58.161443Z",
     "iopub.status.idle": "2021-01-22T14:59:58.175126Z",
     "shell.execute_reply": "2021-01-22T14:59:58.174223Z"
    },
    "papermill": {
     "duration": 0.077601,
     "end_time": "2021-01-22T14:59:58.175274",
     "exception": false,
     "start_time": "2021-01-22T14:59:58.097673",
     "status": "completed"
    },
    "tags": []
   },
   "outputs": [
    {
     "name": "stdout",
     "output_type": "stream",
     "text": [
      "              precision    recall  f1-score   support\n",
      "\n",
      "           0       0.77      0.83      0.80       879\n",
      "           1       0.74      0.65      0.69       644\n",
      "\n",
      "    accuracy                           0.75      1523\n",
      "   macro avg       0.75      0.74      0.74      1523\n",
      "weighted avg       0.75      0.75      0.75      1523\n",
      "\n"
     ]
    }
   ],
   "source": [
    "print(classification_report(y_test,y_pred))"
   ]
  },
  {
   "cell_type": "code",
   "execution_count": 18,
   "metadata": {
    "execution": {
     "iopub.execute_input": "2021-01-22T14:59:58.365345Z",
     "iopub.status.busy": "2021-01-22T14:59:58.364342Z",
     "iopub.status.idle": "2021-01-22T14:59:58.560050Z",
     "shell.execute_reply": "2021-01-22T14:59:58.559091Z"
    },
    "papermill": {
     "duration": 0.29777,
     "end_time": "2021-01-22T14:59:58.560228",
     "exception": false,
     "start_time": "2021-01-22T14:59:58.262458",
     "status": "completed"
    },
    "tags": []
   },
   "outputs": [
    {
     "data": {
      "image/png": "[encoded data removed]",
      "text/plain": [
       "<Figure size 432x288 with 1 Axes>"
      ]
     },
     "metadata": {
      "needs_background": "light"
     },
     "output_type": "display_data"
    }
   ],
   "source": [
    "#history.history['accuracy']\n",
    "plt.plot(history.history['accuracy'])\n",
    "plt.plot(history.history['val_accuracy'])\n",
    "plt.title('Model Performance')\n",
    "plt.ylabel('Accuracy')\n",
    "plt.xlabel('epoch')\n",
    "plt.legend(['train', 'val'], loc='upper right')\n",
    "plt.box(False)\n",
    "plt.show()"
   ]
  },
  {
   "cell_type": "markdown",
   "metadata": {
    "papermill": {
     "duration": 0.08843,
     "end_time": "2021-01-22T14:59:58.736840",
     "exception": false,
     "start_time": "2021-01-22T14:59:58.648410",
     "status": "completed"
    },
    "tags": []
   },
   "source": [
    "We can observe we are not using the best model. We can use tensorflow callback method to ensure we get the best model."
   ]
  },
  {
   "cell_type": "markdown",
   "metadata": {
    "papermill": {
     "duration": 0.087819,
     "end_time": "2021-01-22T14:59:58.912226",
     "exception": false,
     "start_time": "2021-01-22T14:59:58.824407",
     "status": "completed"
    },
    "tags": []
   },
   "source": [
    "## Using Pre-trained Word Embeddings"
   ]
  },
  {
   "cell_type": "markdown",
   "metadata": {
    "papermill": {
     "duration": 0.08716,
     "end_time": "2021-01-22T14:59:59.086369",
     "exception": false,
     "start_time": "2021-01-22T14:59:58.999209",
     "status": "completed"
    },
    "tags": []
   },
   "source": [
    "we will load glove embeddings, pretrained on wikepedia data."
   ]
  },
  {
   "cell_type": "code",
   "execution_count": 19,
   "metadata": {
    "execution": {
     "iopub.execute_input": "2021-01-22T14:59:59.268022Z",
     "iopub.status.busy": "2021-01-22T14:59:59.267280Z",
     "iopub.status.idle": "2021-01-22T15:00:27.475554Z",
     "shell.execute_reply": "2021-01-22T15:00:27.473697Z"
    },
    "papermill": {
     "duration": 28.302128,
     "end_time": "2021-01-22T15:00:27.475738",
     "exception": false,
     "start_time": "2021-01-22T14:59:59.173610",
     "status": "completed"
    },
    "tags": []
   },
   "outputs": [],
   "source": [
    "embedding_dict={}\n",
    "with open('../input/glove6b100dtxt/glove.6B.100d.txt','r') as f:\n",
    "    for line in f:\n",
    "        values=line.split()\n",
    "        word = values[0]\n",
    "        vectors=np.asarray(values[1:],'float32')\n",
    "        embedding_dict[word]=vectors\n",
    "f.close()"
   ]
  },
  {
   "cell_type": "markdown",
   "metadata": {
    "papermill": {
     "duration": 0.059889,
     "end_time": "2021-01-22T15:00:27.595103",
     "exception": false,
     "start_time": "2021-01-22T15:00:27.535214",
     "status": "completed"
    },
    "tags": []
   },
   "source": [
    "Now, we will create an embedding matrix."
   ]
  },
  {
   "cell_type": "code",
   "execution_count": 20,
   "metadata": {
    "execution": {
     "iopub.execute_input": "2021-01-22T15:00:27.723323Z",
     "iopub.status.busy": "2021-01-22T15:00:27.722328Z",
     "iopub.status.idle": "2021-01-22T15:00:27.776683Z",
     "shell.execute_reply": "2021-01-22T15:00:27.777349Z"
    },
    "papermill": {
     "duration": 0.12308,
     "end_time": "2021-01-22T15:00:27.777512",
     "exception": false,
     "start_time": "2021-01-22T15:00:27.654432",
     "status": "completed"
    },
    "tags": []
   },
   "outputs": [
    {
     "name": "stderr",
     "output_type": "stream",
     "text": [
      "100%|██████████| 17651/17651 [00:00<00:00, 423839.04it/s]\n"
     ]
    }
   ],
   "source": [
    "words_na = []\n",
    "embedding_matrix = np.zeros((num_words,100))\n",
    "word_index = tokenizer.word_index\n",
    "for word,i in tqdm(word_index.items()):\n",
    "    if i > num_words:\n",
    "        continue\n",
    "    emb_vec=embedding_dict.get(word)\n",
    "    \n",
    "    if emb_vec is None:\n",
    "        \n",
    "        \n",
    "        words_na.append(word)\n",
    "    \n",
    "    elif emb_vec is not None:\n",
    "        embedding_matrix[i]=emb_vec"
   ]
  },
  {
   "cell_type": "code",
   "execution_count": 21,
   "metadata": {
    "execution": {
     "iopub.execute_input": "2021-01-22T15:00:27.906201Z",
     "iopub.status.busy": "2021-01-22T15:00:27.905197Z",
     "iopub.status.idle": "2021-01-22T15:00:27.910584Z",
     "shell.execute_reply": "2021-01-22T15:00:27.910066Z"
    },
    "papermill": {
     "duration": 0.072118,
     "end_time": "2021-01-22T15:00:27.910698",
     "exception": false,
     "start_time": "2021-01-22T15:00:27.838580",
     "status": "completed"
    },
    "tags": []
   },
   "outputs": [
    {
     "name": "stdout",
     "output_type": "stream",
     "text": [
      "Out of vocabulory words: 6572\n"
     ]
    }
   ],
   "source": [
    "print(\"Out of vocabulory words:\",len(words_na))"
   ]
  },
  {
   "cell_type": "code",
   "execution_count": 22,
   "metadata": {
    "execution": {
     "iopub.execute_input": "2021-01-22T15:00:28.039097Z",
     "iopub.status.busy": "2021-01-22T15:00:28.038415Z",
     "iopub.status.idle": "2021-01-22T15:00:28.041345Z",
     "shell.execute_reply": "2021-01-22T15:00:28.042104Z"
    },
    "papermill": {
     "duration": 0.070093,
     "end_time": "2021-01-22T15:00:28.042257",
     "exception": false,
     "start_time": "2021-01-22T15:00:27.972164",
     "status": "completed"
    },
    "tags": []
   },
   "outputs": [
    {
     "name": "stdout",
     "output_type": "stream",
     "text": [
      "% of Out of vocabulory words: 37.23090867890324\n"
     ]
    }
   ],
   "source": [
    "print(\"% of Out of vocabulory words:\",(len(words_na)/num_words)*100)"
   ]
  },
  {
   "cell_type": "code",
   "execution_count": 23,
   "metadata": {
    "execution": {
     "iopub.execute_input": "2021-01-22T15:00:28.182092Z",
     "iopub.status.busy": "2021-01-22T15:00:28.176122Z",
     "iopub.status.idle": "2021-01-22T15:00:28.857178Z",
     "shell.execute_reply": "2021-01-22T15:00:28.857681Z"
    },
    "papermill": {
     "duration": 0.752732,
     "end_time": "2021-01-22T15:00:28.857864",
     "exception": false,
     "start_time": "2021-01-22T15:00:28.105132",
     "status": "completed"
    },
    "tags": []
   },
   "outputs": [],
   "source": [
    "model2 = tf.keras.Sequential([\n",
    "tf.keras.layers.Embedding(num_words,100,embeddings_initializer=Constant(embedding_matrix),trainable=False),\n",
    "#tf.keras.layers.LSTM(64),\n",
    "tf.keras.layers.Bidirectional(tf.keras.layers.LSTM(64)),\n",
    "tf.keras.layers.Dense(64, activation='relu'),\n",
    "tf.keras.layers.Dense(1, activation='sigmoid')\n",
    "])\n",
    "\n",
    "model2.compile(loss='binary_crossentropy',optimizer=tf.keras.optimizers.Adam(1e-4),metrics=['accuracy'])"
   ]
  },
  {
   "cell_type": "code",
   "execution_count": 24,
   "metadata": {
    "execution": {
     "iopub.execute_input": "2021-01-22T15:00:28.991188Z",
     "iopub.status.busy": "2021-01-22T15:00:28.989986Z",
     "iopub.status.idle": "2021-01-22T15:00:29.008302Z",
     "shell.execute_reply": "2021-01-22T15:00:29.007744Z"
    },
    "papermill": {
     "duration": 0.088543,
     "end_time": "2021-01-22T15:00:29.008422",
     "exception": false,
     "start_time": "2021-01-22T15:00:28.919879",
     "status": "completed"
    },
    "tags": []
   },
   "outputs": [
    {
     "name": "stdout",
     "output_type": "stream",
     "text": [
      "Model: \"sequential_1\"\n",
      "_________________________________________________________________\n",
      "Layer (type)                 Output Shape              Param #   \n",
      "=================================================================\n",
      "embedding_1 (Embedding)      (None, None, 100)         1765200   \n",
      "_________________________________________________________________\n",
      "bidirectional_1 (Bidirection (None, 128)               84480     \n",
      "_________________________________________________________________\n",
      "dense_2 (Dense)              (None, 64)                8256      \n",
      "_________________________________________________________________\n",
      "dense_3 (Dense)              (None, 1)                 65        \n",
      "=================================================================\n",
      "Total params: 1,858,001\n",
      "Trainable params: 92,801\n",
      "Non-trainable params: 1,765,200\n",
      "_________________________________________________________________\n"
     ]
    }
   ],
   "source": [
    "model2.summary()"
   ]
  },
  {
   "cell_type": "code",
   "execution_count": 25,
   "metadata": {
    "execution": {
     "iopub.execute_input": "2021-01-22T15:00:29.144088Z",
     "iopub.status.busy": "2021-01-22T15:00:29.141740Z",
     "iopub.status.idle": "2021-01-22T15:01:53.005392Z",
     "shell.execute_reply": "2021-01-22T15:01:53.006653Z"
    },
    "papermill": {
     "duration": 83.934898,
     "end_time": "2021-01-22T15:01:53.007016",
     "exception": false,
     "start_time": "2021-01-22T15:00:29.072118",
     "status": "completed"
    },
    "tags": []
   },
   "outputs": [
    {
     "name": "stdout",
     "output_type": "stream",
     "text": [
      "Epoch 1/30\n",
      "172/172 - 5s - loss: 0.6117 - accuracy: 0.7030 - val_loss: 0.5129 - val_accuracy: 0.7734\n",
      "Epoch 2/30\n",
      "172/172 - 4s - loss: 0.4638 - accuracy: 0.7946 - val_loss: 0.4814 - val_accuracy: 0.7800\n",
      "Epoch 3/30\n",
      "172/172 - 4s - loss: 0.4362 - accuracy: 0.8126 - val_loss: 0.4649 - val_accuracy: 0.7915\n",
      "Epoch 4/30\n",
      "172/172 - 4s - loss: 0.4240 - accuracy: 0.8174 - val_loss: 0.4569 - val_accuracy: 0.7931\n",
      "Epoch 5/30\n",
      "172/172 - 4s - loss: 0.4159 - accuracy: 0.8172 - val_loss: 0.4510 - val_accuracy: 0.8046\n",
      "Epoch 6/30\n",
      "172/172 - 4s - loss: 0.4068 - accuracy: 0.8228 - val_loss: 0.4567 - val_accuracy: 0.7964\n",
      "Epoch 7/30\n",
      "172/172 - 4s - loss: 0.4014 - accuracy: 0.8311 - val_loss: 0.4493 - val_accuracy: 0.8046\n",
      "Epoch 8/30\n",
      "172/172 - 4s - loss: 0.3974 - accuracy: 0.8285 - val_loss: 0.4431 - val_accuracy: 0.8062\n",
      "Epoch 9/30\n",
      "172/172 - 4s - loss: 0.3907 - accuracy: 0.8300 - val_loss: 0.4392 - val_accuracy: 0.8030\n",
      "Epoch 10/30\n",
      "172/172 - 4s - loss: 0.3860 - accuracy: 0.8332 - val_loss: 0.4354 - val_accuracy: 0.8079\n",
      "Epoch 11/30\n",
      "172/172 - 4s - loss: 0.3824 - accuracy: 0.8367 - val_loss: 0.4336 - val_accuracy: 0.7997\n",
      "Epoch 12/30\n",
      "172/172 - 4s - loss: 0.3777 - accuracy: 0.8398 - val_loss: 0.4406 - val_accuracy: 0.8079\n",
      "Epoch 13/30\n",
      "172/172 - 4s - loss: 0.3696 - accuracy: 0.8420 - val_loss: 0.4379 - val_accuracy: 0.8046\n",
      "Epoch 14/30\n",
      "172/172 - 3s - loss: 0.3669 - accuracy: 0.8455 - val_loss: 0.4433 - val_accuracy: 0.8112\n",
      "Epoch 15/30\n",
      "172/172 - 3s - loss: 0.3588 - accuracy: 0.8482 - val_loss: 0.4301 - val_accuracy: 0.8177\n",
      "Epoch 16/30\n",
      "172/172 - 3s - loss: 0.3527 - accuracy: 0.8515 - val_loss: 0.4430 - val_accuracy: 0.8112\n",
      "Epoch 17/30\n",
      "172/172 - 3s - loss: 0.3459 - accuracy: 0.8539 - val_loss: 0.4298 - val_accuracy: 0.8194\n",
      "Epoch 18/30\n",
      "172/172 - 4s - loss: 0.3393 - accuracy: 0.8590 - val_loss: 0.4497 - val_accuracy: 0.8144\n",
      "Epoch 19/30\n",
      "172/172 - 4s - loss: 0.3331 - accuracy: 0.8621 - val_loss: 0.4408 - val_accuracy: 0.7964\n",
      "Epoch 20/30\n",
      "172/172 - 4s - loss: 0.3255 - accuracy: 0.8655 - val_loss: 0.4441 - val_accuracy: 0.8177\n",
      "Epoch 21/30\n",
      "172/172 - 4s - loss: 0.3159 - accuracy: 0.8716 - val_loss: 0.4524 - val_accuracy: 0.8112\n",
      "Epoch 22/30\n",
      "172/172 - 4s - loss: 0.3065 - accuracy: 0.8727 - val_loss: 0.4582 - val_accuracy: 0.8079\n"
     ]
    }
   ],
   "source": [
    "earlystop = EarlyStopping(monitor='val_loss', min_delta=0, patience=5, verbose=0,restore_best_weights=True, mode='auto')\n",
    "history = model2.fit(train_padded, y_train, epochs=num_epochs,validation_data=(validation_padded, y_val), verbose=2,callbacks=[earlystop])"
   ]
  },
  {
   "cell_type": "code",
   "execution_count": 26,
   "metadata": {
    "execution": {
     "iopub.execute_input": "2021-01-22T15:01:53.172545Z",
     "iopub.status.busy": "2021-01-22T15:01:53.171617Z",
     "iopub.status.idle": "2021-01-22T15:01:54.254607Z",
     "shell.execute_reply": "2021-01-22T15:01:54.255568Z"
    },
    "papermill": {
     "duration": 1.168223,
     "end_time": "2021-01-22T15:01:54.255790",
     "exception": false,
     "start_time": "2021-01-22T15:01:53.087567",
     "status": "completed"
    },
    "tags": []
   },
   "outputs": [],
   "source": [
    "y_pred = model2.predict_classes(test_padded)"
   ]
  },
  {
   "cell_type": "code",
   "execution_count": 27,
   "metadata": {
    "execution": {
     "iopub.execute_input": "2021-01-22T15:01:54.505372Z",
     "iopub.status.busy": "2021-01-22T15:01:54.504390Z",
     "iopub.status.idle": "2021-01-22T15:01:54.679912Z",
     "shell.execute_reply": "2021-01-22T15:01:54.679292Z"
    },
    "papermill": {
     "duration": 0.304417,
     "end_time": "2021-01-22T15:01:54.680037",
     "exception": false,
     "start_time": "2021-01-22T15:01:54.375620",
     "status": "completed"
    },
    "tags": []
   },
   "outputs": [
    {
     "data": {
      "image/png": "[encoded data removed]",
      "text/plain": [
       "<Figure size 432x288 with 2 Axes>"
      ]
     },
     "metadata": {
      "needs_background": "light"
     },
     "output_type": "display_data"
    }
   ],
   "source": [
    "cnf_matrix = confusion_matrix(y_test,y_pred)\n",
    "group_names = ['TN','FP','FN','TP']\n",
    "group_counts = [\"{0:0.0f}\".format(value) for value in cnf_matrix.flatten()]\n",
    "labels = [f\"{v1}\\n{v2}\" for v1, v2 in zip(group_names,group_counts)]\n",
    "labels = np.asarray(labels).reshape(2,2)\n",
    "sns.heatmap(cnf_matrix, annot=labels, fmt='', cmap='Blues');"
   ]
  },
  {
   "cell_type": "code",
   "execution_count": 28,
   "metadata": {
    "execution": {
     "iopub.execute_input": "2021-01-22T15:01:54.846617Z",
     "iopub.status.busy": "2021-01-22T15:01:54.845988Z",
     "iopub.status.idle": "2021-01-22T15:01:54.860742Z",
     "shell.execute_reply": "2021-01-22T15:01:54.860120Z"
    },
    "papermill": {
     "duration": 0.101385,
     "end_time": "2021-01-22T15:01:54.860874",
     "exception": false,
     "start_time": "2021-01-22T15:01:54.759489",
     "status": "completed"
    },
    "tags": []
   },
   "outputs": [
    {
     "name": "stdout",
     "output_type": "stream",
     "text": [
      "              precision    recall  f1-score   support\n",
      "\n",
      "           0       0.80      0.91      0.85       879\n",
      "           1       0.85      0.68      0.76       644\n",
      "\n",
      "    accuracy                           0.82      1523\n",
      "   macro avg       0.82      0.80      0.80      1523\n",
      "weighted avg       0.82      0.82      0.81      1523\n",
      "\n"
     ]
    }
   ],
   "source": [
    "print(classification_report(y_test,y_pred))"
   ]
  },
  {
   "cell_type": "code",
   "execution_count": 29,
   "metadata": {
    "execution": {
     "iopub.execute_input": "2021-01-22T15:01:55.039791Z",
     "iopub.status.busy": "2021-01-22T15:01:55.039095Z",
     "iopub.status.idle": "2021-01-22T15:01:55.296332Z",
     "shell.execute_reply": "2021-01-22T15:01:55.295615Z"
    },
    "papermill": {
     "duration": 0.353247,
     "end_time": "2021-01-22T15:01:55.296450",
     "exception": false,
     "start_time": "2021-01-22T15:01:54.943203",
     "status": "completed"
    },
    "tags": []
   },
   "outputs": [
    {
     "data": {
      "image/png": "[encoded data removed]",
      "text/plain": [
       "<Figure size 432x288 with 1 Axes>"
      ]
     },
     "metadata": {
      "needs_background": "light"
     },
     "output_type": "display_data"
    }
   ],
   "source": [
    "epochs = range(1,len(history.history['loss'])+1)\n",
    "plt.plot(epochs,history.history['accuracy'])\n",
    "plt.plot(epochs,history.history['val_accuracy'])\n",
    "plt.title('Model Performance')\n",
    "plt.ylabel('Accuracy')\n",
    "plt.xlabel('epoch')\n",
    "plt.xticks(epochs)\n",
    "plt.legend(['train', 'val'], loc='upper right')\n",
    "plt.box(False)\n",
    "plt.show()"
   ]
  },
  {
   "cell_type": "markdown",
   "metadata": {
    "papermill": {
     "duration": 0.082451,
     "end_time": "2021-01-22T15:01:55.464065",
     "exception": false,
     "start_time": "2021-01-22T15:01:55.381614",
     "status": "completed"
    },
    "tags": []
   },
   "source": [
    "We can see the improvement in accuracy."
   ]
  },
  {
   "cell_type": "markdown",
   "metadata": {
    "papermill": {
     "duration": 0.084979,
     "end_time": "2021-01-22T15:01:55.633406",
     "exception": false,
     "start_time": "2021-01-22T15:01:55.548427",
     "status": "completed"
    },
    "tags": []
   },
   "source": [
    "# Submission"
   ]
  },
  {
   "cell_type": "code",
   "execution_count": 30,
   "metadata": {
    "execution": {
     "iopub.execute_input": "2021-01-22T15:01:55.811598Z",
     "iopub.status.busy": "2021-01-22T15:01:55.810806Z",
     "iopub.status.idle": "2021-01-22T15:01:55.833830Z",
     "shell.execute_reply": "2021-01-22T15:01:55.834339Z"
    },
    "papermill": {
     "duration": 0.118133,
     "end_time": "2021-01-22T15:01:55.834504",
     "exception": false,
     "start_time": "2021-01-22T15:01:55.716371",
     "status": "completed"
    },
    "tags": []
   },
   "outputs": [],
   "source": [
    "df_sub = pd.read_csv('../input/nlp-getting-started/test.csv')"
   ]
  },
  {
   "cell_type": "code",
   "execution_count": 31,
   "metadata": {
    "execution": {
     "iopub.execute_input": "2021-01-22T15:01:56.017924Z",
     "iopub.status.busy": "2021-01-22T15:01:56.017203Z",
     "iopub.status.idle": "2021-01-22T15:01:56.891425Z",
     "shell.execute_reply": "2021-01-22T15:01:56.892243Z"
    },
    "papermill": {
     "duration": 0.96221,
     "end_time": "2021-01-22T15:01:56.892444",
     "exception": false,
     "start_time": "2021-01-22T15:01:55.930234",
     "status": "completed"
    },
    "tags": []
   },
   "outputs": [
    {
     "data": {
      "text/html": [
       "<div>\n",
       "<style scoped>\n",
       "    .dataframe tbody tr th:only-of-type {\n",
       "        vertical-align: middle;\n",
       "    }\n",
       "\n",
       "    .dataframe tbody tr th {\n",
       "        vertical-align: top;\n",
       "    }\n",
       "\n",
       "    .dataframe thead th {\n",
       "        text-align: right;\n",
       "    }\n",
       "</style>\n",
       "<table border=\"1\" class=\"dataframe\">\n",
       "  <thead>\n",
       "    <tr style=\"text-align: right;\">\n",
       "      <th></th>\n",
       "      <th>id</th>\n",
       "      <th>keyword</th>\n",
       "      <th>location</th>\n",
       "      <th>text</th>\n",
       "    </tr>\n",
       "  </thead>\n",
       "  <tbody>\n",
       "    <tr>\n",
       "      <th>0</th>\n",
       "      <td>0</td>\n",
       "      <td>NaN</td>\n",
       "      <td>NaN</td>\n",
       "      <td>happened terrible car crash</td>\n",
       "    </tr>\n",
       "    <tr>\n",
       "      <th>1</th>\n",
       "      <td>2</td>\n",
       "      <td>NaN</td>\n",
       "      <td>NaN</td>\n",
       "      <td>heard earthquake different cities, stay safe e...</td>\n",
       "    </tr>\n",
       "    <tr>\n",
       "      <th>2</th>\n",
       "      <td>3</td>\n",
       "      <td>NaN</td>\n",
       "      <td>NaN</td>\n",
       "      <td>forest fire spot pond, geese fleeing across st...</td>\n",
       "    </tr>\n",
       "    <tr>\n",
       "      <th>3</th>\n",
       "      <td>9</td>\n",
       "      <td>NaN</td>\n",
       "      <td>NaN</td>\n",
       "      <td>apocalypse lighting spokane wildfires</td>\n",
       "    </tr>\n",
       "    <tr>\n",
       "      <th>4</th>\n",
       "      <td>11</td>\n",
       "      <td>NaN</td>\n",
       "      <td>NaN</td>\n",
       "      <td>typhoon soudelor kills china taiwan</td>\n",
       "    </tr>\n",
       "  </tbody>\n",
       "</table>\n",
       "</div>"
      ],
      "text/plain": [
       "   id keyword location                                               text\n",
       "0   0     NaN      NaN                        happened terrible car crash\n",
       "1   2     NaN      NaN  heard earthquake different cities, stay safe e...\n",
       "2   3     NaN      NaN  forest fire spot pond, geese fleeing across st...\n",
       "3   9     NaN      NaN              apocalypse lighting spokane wildfires\n",
       "4  11     NaN      NaN                typhoon soudelor kills china taiwan"
      ]
     },
     "execution_count": 31,
     "metadata": {},
     "output_type": "execute_result"
    }
   ],
   "source": [
    "df_sub['text'] = df_sub['text'].str.lower()\n",
    "df_sub['text'] = df_sub['text'].apply(lambda x: clean_text(x))\n",
    "df_sub['text'] = df_sub['text'].apply(lambda x: replace_misspell(x))\n",
    "\n",
    " \n",
    "df_sub.head()"
   ]
  },
  {
   "cell_type": "code",
   "execution_count": 32,
   "metadata": {
    "execution": {
     "iopub.execute_input": "2021-01-22T15:01:57.217311Z",
     "iopub.status.busy": "2021-01-22T15:01:57.216099Z",
     "iopub.status.idle": "2021-01-22T15:01:57.298275Z",
     "shell.execute_reply": "2021-01-22T15:01:57.298982Z"
    },
    "papermill": {
     "duration": 0.280582,
     "end_time": "2021-01-22T15:01:57.299166",
     "exception": false,
     "start_time": "2021-01-22T15:01:57.018584",
     "status": "completed"
    },
    "tags": []
   },
   "outputs": [],
   "source": [
    "X_sub =  df_sub['text'].values\n",
    "sub_sequences = tokenizer.texts_to_sequences(X_sub)\n",
    "sub_padded = tf.keras.preprocessing.sequence.pad_sequences(sub_sequences,padding='post',maxlen=max_len)"
   ]
  },
  {
   "cell_type": "code",
   "execution_count": 33,
   "metadata": {
    "execution": {
     "iopub.execute_input": "2021-01-22T15:01:57.550686Z",
     "iopub.status.busy": "2021-01-22T15:01:57.549530Z",
     "iopub.status.idle": "2021-01-22T15:01:58.271241Z",
     "shell.execute_reply": "2021-01-22T15:01:58.270391Z"
    },
    "papermill": {
     "duration": 0.848104,
     "end_time": "2021-01-22T15:01:58.271393",
     "exception": false,
     "start_time": "2021-01-22T15:01:57.423289",
     "status": "completed"
    },
    "tags": []
   },
   "outputs": [],
   "source": [
    "y_pred = model2.predict_classes(sub_padded)\n",
    "df_output = pd.DataFrame()\n",
    "df_output['id'] = df_sub['id']\n",
    "df_output['target'] =[x.item() for x in list(y_pred)]"
   ]
  },
  {
   "cell_type": "code",
   "execution_count": 34,
   "metadata": {
    "execution": {
     "iopub.execute_input": "2021-01-22T15:01:58.523529Z",
     "iopub.status.busy": "2021-01-22T15:01:58.522485Z",
     "iopub.status.idle": "2021-01-22T15:01:58.802380Z",
     "shell.execute_reply": "2021-01-22T15:01:58.802922Z"
    },
    "papermill": {
     "duration": 0.408117,
     "end_time": "2021-01-22T15:01:58.803075",
     "exception": false,
     "start_time": "2021-01-22T15:01:58.394958",
     "status": "completed"
    },
    "tags": []
   },
   "outputs": [],
   "source": [
    "df_output.to_csv('submission.csv',index=False)"
   ]
  },
  {
   "cell_type": "markdown",
   "metadata": {
    "papermill": {
     "duration": 0.081398,
     "end_time": "2021-01-22T15:01:58.966045",
     "exception": false,
     "start_time": "2021-01-22T15:01:58.884647",
     "status": "completed"
    },
    "tags": []
   },
   "source": [
    "# End Notes\n",
    "\n",
    "This notebook is a beginer level approach for solving a NLP task. The model is not perfect, and there is scope for experiments like modifying model architecture,performing hyper parameter tuning, using different word embeddings etc. Also, there are other models, including transformer based models like BERT,that can be used for this task."
   ]
  }
 ],
 "metadata": {
  "kernelspec": {
   "display_name": "Python 3",
   "language": "python",
   "name": "python3"
  },
  "language_info": {
   "codemirror_mode": {
    "name": "ipython",
    "version": 3
   },
   "file_extension": ".py",
   "mimetype": "text/x-python",
   "name": "python",
   "nbconvert_exporter": "python",
   "pygments_lexer": "ipython3",
   "version": "3.7.6"
  },
  "papermill": {
   "duration": 499.987305,
   "end_time": "2021-01-22T15:01:59.159460",
   "environment_variables": {},
   "exception": null,
   "input_path": "__notebook__.ipynb",
   "output_path": "__notebook__.ipynb",
   "parameters": {},
   "start_time": "2021-01-22T14:53:39.172155",
   "version": "2.1.0"
  }
 },
 "nbformat": 4,
 "nbformat_minor": 4
}
