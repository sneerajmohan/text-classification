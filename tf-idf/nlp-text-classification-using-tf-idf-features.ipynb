{
 "cells": [
  {
   "cell_type": "markdown",
   "metadata": {
    "_cell_guid": "79c7e3d0-c299-4dcb-8224-4455121ee9b0",
    "_uuid": "d629ff2d2480ee46fbb7e2d37f6b5fab8052498a",
    "collapsed": true,
    "papermill": {
     "duration": 0.018337,
     "end_time": "2021-03-03T03:50:46.433533",
     "exception": false,
     "start_time": "2021-03-03T03:50:46.415196",
     "status": "completed"
    },
    "tags": []
   },
   "source": [
    "# Problem statement\n",
    "\n",
    "The aim is to develop an algorithm to predict whether a tweet is about a real disaster or not."
   ]
  },
  {
   "cell_type": "code",
   "execution_count": 1,
   "metadata": {
    "execution": {
     "iopub.execute_input": "2021-03-03T03:50:46.474591Z",
     "iopub.status.busy": "2021-03-03T03:50:46.473625Z",
     "iopub.status.idle": "2021-03-03T03:50:48.722170Z",
     "shell.execute_reply": "2021-03-03T03:50:48.721421Z"
    },
    "papermill": {
     "duration": 2.272354,
     "end_time": "2021-03-03T03:50:48.722294",
     "exception": false,
     "start_time": "2021-03-03T03:50:46.449940",
     "status": "completed"
    },
    "tags": []
   },
   "outputs": [],
   "source": [
    "import numpy as np\n",
    "import pandas as pd\n",
    "from tqdm import tqdm\n",
    "\n",
    "import re\n",
    "import string\n",
    "\n",
    "import nltk\n",
    "from nltk.corpus import stopwords\n",
    "from nltk.stem import WordNetLemmatizer  \n",
    "stop_words = stopwords.words('english')\n",
    "\n",
    "from sklearn.model_selection import train_test_split\n",
    "from sklearn.metrics import confusion_matrix,classification_report\n",
    "from sklearn.feature_extraction.text import CountVectorizer, TfidfVectorizer\n",
    "from sklearn.ensemble import RandomForestClassifier\n",
    "from sklearn.metrics import confusion_matrix,classification_report\n",
    "\n",
    "import matplotlib.pyplot as plt\n",
    "import seaborn as sns"
   ]
  },
  {
   "cell_type": "code",
   "execution_count": 2,
   "metadata": {
    "execution": {
     "iopub.execute_input": "2021-03-03T03:50:48.770675Z",
     "iopub.status.busy": "2021-03-03T03:50:48.762640Z",
     "iopub.status.idle": "2021-03-03T03:50:48.846716Z",
     "shell.execute_reply": "2021-03-03T03:50:48.846152Z"
    },
    "papermill": {
     "duration": 0.108669,
     "end_time": "2021-03-03T03:50:48.846867",
     "exception": false,
     "start_time": "2021-03-03T03:50:48.738198",
     "status": "completed"
    },
    "tags": []
   },
   "outputs": [
    {
     "data": {
      "text/html": [
       "<div>\n",
       "<style scoped>\n",
       "    .dataframe tbody tr th:only-of-type {\n",
       "        vertical-align: middle;\n",
       "    }\n",
       "\n",
       "    .dataframe tbody tr th {\n",
       "        vertical-align: top;\n",
       "    }\n",
       "\n",
       "    .dataframe thead th {\n",
       "        text-align: right;\n",
       "    }\n",
       "</style>\n",
       "<table border=\"1\" class=\"dataframe\">\n",
       "  <thead>\n",
       "    <tr style=\"text-align: right;\">\n",
       "      <th></th>\n",
       "      <th>id</th>\n",
       "      <th>keyword</th>\n",
       "      <th>location</th>\n",
       "      <th>text</th>\n",
       "      <th>target</th>\n",
       "    </tr>\n",
       "  </thead>\n",
       "  <tbody>\n",
       "    <tr>\n",
       "      <th>0</th>\n",
       "      <td>1</td>\n",
       "      <td>NaN</td>\n",
       "      <td>NaN</td>\n",
       "      <td>Our Deeds are the Reason of this #earthquake M...</td>\n",
       "      <td>1</td>\n",
       "    </tr>\n",
       "    <tr>\n",
       "      <th>1</th>\n",
       "      <td>4</td>\n",
       "      <td>NaN</td>\n",
       "      <td>NaN</td>\n",
       "      <td>Forest fire near La Ronge Sask. Canada</td>\n",
       "      <td>1</td>\n",
       "    </tr>\n",
       "    <tr>\n",
       "      <th>2</th>\n",
       "      <td>5</td>\n",
       "      <td>NaN</td>\n",
       "      <td>NaN</td>\n",
       "      <td>All residents asked to 'shelter in place' are ...</td>\n",
       "      <td>1</td>\n",
       "    </tr>\n",
       "    <tr>\n",
       "      <th>3</th>\n",
       "      <td>6</td>\n",
       "      <td>NaN</td>\n",
       "      <td>NaN</td>\n",
       "      <td>13,000 people receive #wildfires evacuation or...</td>\n",
       "      <td>1</td>\n",
       "    </tr>\n",
       "    <tr>\n",
       "      <th>4</th>\n",
       "      <td>7</td>\n",
       "      <td>NaN</td>\n",
       "      <td>NaN</td>\n",
       "      <td>Just got sent this photo from Ruby #Alaska as ...</td>\n",
       "      <td>1</td>\n",
       "    </tr>\n",
       "  </tbody>\n",
       "</table>\n",
       "</div>"
      ],
      "text/plain": [
       "   id keyword location                                               text  \\\n",
       "0   1     NaN      NaN  Our Deeds are the Reason of this #earthquake M...   \n",
       "1   4     NaN      NaN             Forest fire near La Ronge Sask. Canada   \n",
       "2   5     NaN      NaN  All residents asked to 'shelter in place' are ...   \n",
       "3   6     NaN      NaN  13,000 people receive #wildfires evacuation or...   \n",
       "4   7     NaN      NaN  Just got sent this photo from Ruby #Alaska as ...   \n",
       "\n",
       "   target  \n",
       "0       1  \n",
       "1       1  \n",
       "2       1  \n",
       "3       1  \n",
       "4       1  "
      ]
     },
     "execution_count": 2,
     "metadata": {},
     "output_type": "execute_result"
    }
   ],
   "source": [
    "df = pd.read_csv('/kaggle/input/nlp-getting-started/train.csv')\n",
    "df.head()"
   ]
  },
  {
   "cell_type": "code",
   "execution_count": 3,
   "metadata": {
    "execution": {
     "iopub.execute_input": "2021-03-03T03:50:48.889606Z",
     "iopub.status.busy": "2021-03-03T03:50:48.888164Z",
     "iopub.status.idle": "2021-03-03T03:50:49.043874Z",
     "shell.execute_reply": "2021-03-03T03:50:49.043207Z"
    },
    "papermill": {
     "duration": 0.180104,
     "end_time": "2021-03-03T03:50:49.043992",
     "exception": false,
     "start_time": "2021-03-03T03:50:48.863888",
     "status": "completed"
    },
    "tags": []
   },
   "outputs": [
    {
     "data": {
      "image/png": "[encoded data removed]",
      "text/plain": [
       "<Figure size 432x288 with 1 Axes>"
      ]
     },
     "metadata": {
      "needs_background": "light"
     },
     "output_type": "display_data"
    }
   ],
   "source": [
    "ax = sns.countplot(x=\"target\", data=df)"
   ]
  },
  {
   "cell_type": "markdown",
   "metadata": {
    "papermill": {
     "duration": 0.01649,
     "end_time": "2021-03-03T03:50:49.077434",
     "exception": false,
     "start_time": "2021-03-03T03:50:49.060944",
     "status": "completed"
    },
    "tags": []
   },
   "source": [
    "There is no class imbalance in the distribution of target variable."
   ]
  },
  {
   "cell_type": "markdown",
   "metadata": {
    "papermill": {
     "duration": 0.017763,
     "end_time": "2021-03-03T03:50:49.112039",
     "exception": false,
     "start_time": "2021-03-03T03:50:49.094276",
     "status": "completed"
    },
    "tags": []
   },
   "source": [
    "# Data Clensing\n",
    "\n",
    "We are using custom functions to perform the following tasks. Cleaning up the data for modeling should be carried out carefully and with the help of subject matter experts, if possible. This cleaning is done completely based on observation, and can not be considered as a generic preprocessing step for all the NLP tasks. This preprocessing function ensures:\n",
    "\n",
    "* Removing urls from tweet\n",
    "* Removing html tags\n",
    "* Removing punctuations\n",
    "* Removing stopwords\n",
    "* Removing emoji\n",
    "* Lemmatization"
   ]
  },
  {
   "cell_type": "code",
   "execution_count": 4,
   "metadata": {
    "execution": {
     "iopub.execute_input": "2021-03-03T03:50:49.162309Z",
     "iopub.status.busy": "2021-03-03T03:50:49.161503Z",
     "iopub.status.idle": "2021-03-03T03:50:49.165519Z",
     "shell.execute_reply": "2021-03-03T03:50:49.164935Z"
    },
    "papermill": {
     "duration": 0.035164,
     "end_time": "2021-03-03T03:50:49.165645",
     "exception": false,
     "start_time": "2021-03-03T03:50:49.130481",
     "status": "completed"
    },
    "tags": []
   },
   "outputs": [],
   "source": [
    "sw = stopwords.words('english')\n",
    "lemmatizer = WordNetLemmatizer() \n",
    "\n",
    "def clean_text(text):\n",
    "    \n",
    "    text = text.lower()\n",
    "    \n",
    "    text = re.sub(r\"[^a-zA-Z?.!,¿]+\", \" \", text) # replacing everything with space except (a-z, A-Z, \".\", \"?\", \"!\", \",\")\n",
    "\n",
    "    text = re.sub(r\"http\\S+\", \"\",text) #Removing URLs \n",
    "    #text = re.sub(r\"http\", \"\",text)\n",
    "    \n",
    "    html=re.compile(r'<.*?>') \n",
    "    \n",
    "    text = html.sub(r'',text) #Removing html tags\n",
    "    \n",
    "    punctuations = '@#!?+&*[]-%.:/();$=><|{}^' + \"'`\" + '_'\n",
    "    for p in punctuations:\n",
    "        text = text.replace(p,'') #Removing punctuations\n",
    "        \n",
    "    text = [word.lower() for word in text.split() if word.lower() not in sw]\n",
    "    \n",
    "    text = [lemmatizer.lemmatize(word) for word in text]\n",
    "    \n",
    "    text = \" \".join(text) #removing stopwords\n",
    "    \n",
    "    emoji_pattern = re.compile(\"[\"\n",
    "                           u\"\\U0001F600-\\U0001F64F\"  # emoticons\n",
    "                           u\"\\U0001F300-\\U0001F5FF\"  # symbols & pictographs\n",
    "                           u\"\\U0001F680-\\U0001F6FF\"  # transport & map symbols\n",
    "                           u\"\\U0001F1E0-\\U0001F1FF\"  # flags (iOS)\n",
    "                           u\"\\U00002702-\\U000027B0\"\n",
    "                           u\"\\U000024C2-\\U0001F251\"\n",
    "                           \"]+\", flags=re.UNICODE)\n",
    "    text = emoji_pattern.sub(r'', text) #Removing emojis\n",
    "    \n",
    "    return text"
   ]
  },
  {
   "cell_type": "code",
   "execution_count": 5,
   "metadata": {
    "execution": {
     "iopub.execute_input": "2021-03-03T03:50:49.208053Z",
     "iopub.status.busy": "2021-03-03T03:50:49.207337Z",
     "iopub.status.idle": "2021-03-03T03:50:52.500957Z",
     "shell.execute_reply": "2021-03-03T03:50:52.499916Z"
    },
    "papermill": {
     "duration": 3.317704,
     "end_time": "2021-03-03T03:50:52.501092",
     "exception": false,
     "start_time": "2021-03-03T03:50:49.183388",
     "status": "completed"
    },
    "tags": []
   },
   "outputs": [
    {
     "data": {
      "text/html": [
       "<div>\n",
       "<style scoped>\n",
       "    .dataframe tbody tr th:only-of-type {\n",
       "        vertical-align: middle;\n",
       "    }\n",
       "\n",
       "    .dataframe tbody tr th {\n",
       "        vertical-align: top;\n",
       "    }\n",
       "\n",
       "    .dataframe thead th {\n",
       "        text-align: right;\n",
       "    }\n",
       "</style>\n",
       "<table border=\"1\" class=\"dataframe\">\n",
       "  <thead>\n",
       "    <tr style=\"text-align: right;\">\n",
       "      <th></th>\n",
       "      <th>id</th>\n",
       "      <th>keyword</th>\n",
       "      <th>location</th>\n",
       "      <th>text</th>\n",
       "      <th>target</th>\n",
       "    </tr>\n",
       "  </thead>\n",
       "  <tbody>\n",
       "    <tr>\n",
       "      <th>0</th>\n",
       "      <td>1</td>\n",
       "      <td>NaN</td>\n",
       "      <td>NaN</td>\n",
       "      <td>deed reason earthquake may allah forgive u</td>\n",
       "      <td>1</td>\n",
       "    </tr>\n",
       "    <tr>\n",
       "      <th>1</th>\n",
       "      <td>4</td>\n",
       "      <td>NaN</td>\n",
       "      <td>NaN</td>\n",
       "      <td>forest fire near la ronge sask canada</td>\n",
       "      <td>1</td>\n",
       "    </tr>\n",
       "    <tr>\n",
       "      <th>2</th>\n",
       "      <td>5</td>\n",
       "      <td>NaN</td>\n",
       "      <td>NaN</td>\n",
       "      <td>resident asked shelter place notified officer ...</td>\n",
       "      <td>1</td>\n",
       "    </tr>\n",
       "    <tr>\n",
       "      <th>3</th>\n",
       "      <td>6</td>\n",
       "      <td>NaN</td>\n",
       "      <td>NaN</td>\n",
       "      <td>, people receive wildfire evacuation order cal...</td>\n",
       "      <td>1</td>\n",
       "    </tr>\n",
       "    <tr>\n",
       "      <th>4</th>\n",
       "      <td>7</td>\n",
       "      <td>NaN</td>\n",
       "      <td>NaN</td>\n",
       "      <td>got sent photo ruby alaska smoke wildfire pour...</td>\n",
       "      <td>1</td>\n",
       "    </tr>\n",
       "  </tbody>\n",
       "</table>\n",
       "</div>"
      ],
      "text/plain": [
       "   id keyword location                                               text  \\\n",
       "0   1     NaN      NaN         deed reason earthquake may allah forgive u   \n",
       "1   4     NaN      NaN              forest fire near la ronge sask canada   \n",
       "2   5     NaN      NaN  resident asked shelter place notified officer ...   \n",
       "3   6     NaN      NaN  , people receive wildfire evacuation order cal...   \n",
       "4   7     NaN      NaN  got sent photo ruby alaska smoke wildfire pour...   \n",
       "\n",
       "   target  \n",
       "0       1  \n",
       "1       1  \n",
       "2       1  \n",
       "3       1  \n",
       "4       1  "
      ]
     },
     "execution_count": 5,
     "metadata": {},
     "output_type": "execute_result"
    }
   ],
   "source": [
    "df['text'] = df['text'].apply(lambda x: clean_text(x))\n",
    " \n",
    "df.head()"
   ]
  },
  {
   "cell_type": "markdown",
   "metadata": {
    "papermill": {
     "duration": 0.018026,
     "end_time": "2021-03-03T03:50:52.536678",
     "exception": false,
     "start_time": "2021-03-03T03:50:52.518652",
     "status": "completed"
    },
    "tags": []
   },
   "source": [
    "# Words to vectors"
   ]
  },
  {
   "cell_type": "markdown",
   "metadata": {
    "papermill": {
     "duration": 0.01764,
     "end_time": "2021-03-03T03:50:52.572013",
     "exception": false,
     "start_time": "2021-03-03T03:50:52.554373",
     "status": "completed"
    },
    "tags": []
   },
   "source": [
    "Reference\n",
    "\n",
    "https://towardsdatascience.com/word-embeddings-exploration-explanation-and-exploitation-with-code-in-python-5dac99d5d795\n",
    "\n",
    "https://towardsdatascience.com/hacking-scikit-learns-vectorizers-9ef26a7170af"
   ]
  },
  {
   "cell_type": "markdown",
   "metadata": {
    "papermill": {
     "duration": 0.017919,
     "end_time": "2021-03-03T03:50:52.607667",
     "exception": false,
     "start_time": "2021-03-03T03:50:52.589748",
     "status": "completed"
    },
    "tags": []
   },
   "source": [
    "We need to convert the words to numeric representations, to use them as input to our machine learning model. One way to do this is:\n",
    "\n",
    "## Count Vectorizer\n",
    "The most basic and naive method of transforming words into vectors by counting occurrence of each word in each document. The output is a document-term matrix with each row representing a document and each column addressing a token (weight assigned to each token based on counting the occurence). \n",
    "\n",
    "For example:"
   ]
  },
  {
   "cell_type": "code",
   "execution_count": 6,
   "metadata": {
    "execution": {
     "iopub.execute_input": "2021-03-03T03:50:52.647331Z",
     "iopub.status.busy": "2021-03-03T03:50:52.646621Z",
     "iopub.status.idle": "2021-03-03T03:50:52.654056Z",
     "shell.execute_reply": "2021-03-03T03:50:52.653478Z"
    },
    "papermill": {
     "duration": 0.028216,
     "end_time": "2021-03-03T03:50:52.654188",
     "exception": false,
     "start_time": "2021-03-03T03:50:52.625972",
     "status": "completed"
    },
    "tags": []
   },
   "outputs": [
    {
     "data": {
      "text/plain": [
       "array(['deed reason earthquake may allah forgive u',\n",
       "       'forest fire near la ronge sask canada'], dtype=object)"
      ]
     },
     "execution_count": 6,
     "metadata": {},
     "output_type": "execute_result"
    }
   ],
   "source": [
    "sample_corpora = df['text'].iloc[:2].values\n",
    "sample_corpora"
   ]
  },
  {
   "cell_type": "code",
   "execution_count": 7,
   "metadata": {
    "execution": {
     "iopub.execute_input": "2021-03-03T03:50:52.693790Z",
     "iopub.status.busy": "2021-03-03T03:50:52.693068Z",
     "iopub.status.idle": "2021-03-03T03:50:52.709531Z",
     "shell.execute_reply": "2021-03-03T03:50:52.710061Z"
    },
    "papermill": {
     "duration": 0.03787,
     "end_time": "2021-03-03T03:50:52.710219",
     "exception": false,
     "start_time": "2021-03-03T03:50:52.672349",
     "status": "completed"
    },
    "tags": []
   },
   "outputs": [
    {
     "data": {
      "text/html": [
       "<div>\n",
       "<style scoped>\n",
       "    .dataframe tbody tr th:only-of-type {\n",
       "        vertical-align: middle;\n",
       "    }\n",
       "\n",
       "    .dataframe tbody tr th {\n",
       "        vertical-align: top;\n",
       "    }\n",
       "\n",
       "    .dataframe thead th {\n",
       "        text-align: right;\n",
       "    }\n",
       "</style>\n",
       "<table border=\"1\" class=\"dataframe\">\n",
       "  <thead>\n",
       "    <tr style=\"text-align: right;\">\n",
       "      <th></th>\n",
       "      <th>allah</th>\n",
       "      <th>canada</th>\n",
       "      <th>deed</th>\n",
       "      <th>earthquake</th>\n",
       "      <th>fire</th>\n",
       "      <th>forest</th>\n",
       "      <th>forgive</th>\n",
       "      <th>la</th>\n",
       "      <th>may</th>\n",
       "      <th>near</th>\n",
       "      <th>reason</th>\n",
       "      <th>ronge</th>\n",
       "      <th>sask</th>\n",
       "    </tr>\n",
       "  </thead>\n",
       "  <tbody>\n",
       "    <tr>\n",
       "      <th>Doc0</th>\n",
       "      <td>1</td>\n",
       "      <td>0</td>\n",
       "      <td>1</td>\n",
       "      <td>1</td>\n",
       "      <td>0</td>\n",
       "      <td>0</td>\n",
       "      <td>1</td>\n",
       "      <td>0</td>\n",
       "      <td>1</td>\n",
       "      <td>0</td>\n",
       "      <td>1</td>\n",
       "      <td>0</td>\n",
       "      <td>0</td>\n",
       "    </tr>\n",
       "    <tr>\n",
       "      <th>Doc1</th>\n",
       "      <td>0</td>\n",
       "      <td>1</td>\n",
       "      <td>0</td>\n",
       "      <td>0</td>\n",
       "      <td>1</td>\n",
       "      <td>1</td>\n",
       "      <td>0</td>\n",
       "      <td>1</td>\n",
       "      <td>0</td>\n",
       "      <td>1</td>\n",
       "      <td>0</td>\n",
       "      <td>1</td>\n",
       "      <td>1</td>\n",
       "    </tr>\n",
       "  </tbody>\n",
       "</table>\n",
       "</div>"
      ],
      "text/plain": [
       "      allah  canada  deed  earthquake  fire  forest  forgive  la  may  near  \\\n",
       "Doc0      1       0     1           1     0       0        1   0    1     0   \n",
       "Doc1      0       1     0           0     1       1        0   1    0     1   \n",
       "\n",
       "      reason  ronge  sask  \n",
       "Doc0       1      0     0  \n",
       "Doc1       0      1     1  "
      ]
     },
     "execution_count": 7,
     "metadata": {},
     "output_type": "execute_result"
    }
   ],
   "source": [
    "count_vectorizer = CountVectorizer()\n",
    "wm = count_vectorizer.fit_transform(sample_corpora)\n",
    "\n",
    "doc_names = ['Doc{:d}'.format(idx) for idx, _ in enumerate(wm)]\n",
    "feat_names = count_vectorizer.get_feature_names()\n",
    "\n",
    "\n",
    "sample_df = pd.DataFrame(data=wm.toarray(), index=doc_names,columns=feat_names)\n",
    "sample_df"
   ]
  },
  {
   "cell_type": "markdown",
   "metadata": {
    "papermill": {
     "duration": 0.018406,
     "end_time": "2021-03-03T03:50:52.747436",
     "exception": false,
     "start_time": "2021-03-03T03:50:52.729030",
     "status": "completed"
    },
    "tags": []
   },
   "source": [
    "## TF-IDF Vectorizer\n",
    "\n",
    "Taking only word count in document have certain drawbacks. The presence of frequent word vectors wont be sparse (espicially stopwords), though the word may not be important. Also, rare words looks very sparse, hence less importance. To tackle these problems, we use TF-IDF vectorization. \n",
    "\n",
    "The first part is **TF**, called term frequency. This simply means the number of times the word occur in document divided by the total number of words in the document. \n",
    "\n",
    "The second part is **IDF**, which stands for ‘inverse document frequency’, interpreted like inversed number of documents, in which the term we’re interested in occurs."
   ]
  },
  {
   "cell_type": "markdown",
   "metadata": {
    "papermill": {
     "duration": 0.018135,
     "end_time": "2021-03-03T03:50:52.784320",
     "exception": false,
     "start_time": "2021-03-03T03:50:52.766185",
     "status": "completed"
    },
    "tags": []
   },
   "source": [
    "**$tf(t,d)$**  is the term frequency is the number of times the term appears in the document.\n",
    "\n",
    "**$$tf(t,d) = {n_{t,d} \\over \\sum_{{k \\in d}} n_{k,d}} $$**\n",
    "\n",
    "\n",
    "Where, $t$ is term and $d$ document.\n",
    "\n",
    "\n",
    "**$idf(t,D)$** is the document frequency is the number of documents '**d**' that contain term '**t**'.\n",
    "\n",
    "**$$idf(t,D) = {log {N\\over{n_t}}}$$**\n",
    "\n",
    "**$$d \\in D, t \\in d $$**\n",
    "\n",
    "\n",
    "where **$N$** is the total number of documents and **$n_t$** is the number of times the term appear in the document.\n",
    "\n",
    "The **TF-IDF** vector,\n",
    "\n",
    "**$$tfidf(t,d,D) = tf(t,d) * idf(t,D)$$**\n",
    "\n",
    "\n",
    "### Smoothing\n",
    "\n",
    "An idf is constant per corpus for a word. A smoothened version, adding 1 to denominator is applied to avoid division by 0 (occurs when term is not present in corpora). The idea of idf is to weight down the frequent terms while scale up the rare ones, assuming more frequent ones are not always important ones. So, smoothened idf equation is:\n",
    "\n",
    "**$$idf(t,D) = {log {N\\over{1 + n_t}}}$$**\n",
    "\n",
    "NB : smoothing is set True as default in scikit learn tfidf vectorizer"
   ]
  },
  {
   "cell_type": "markdown",
   "metadata": {
    "papermill": {
     "duration": 0.018247,
     "end_time": "2021-03-03T03:50:52.822411",
     "exception": false,
     "start_time": "2021-03-03T03:50:52.804164",
     "status": "completed"
    },
    "tags": []
   },
   "source": [
    "# TF-IDF Vectorization using scikit learn"
   ]
  },
  {
   "cell_type": "markdown",
   "metadata": {
    "papermill": {
     "duration": 0.018207,
     "end_time": "2021-03-03T03:50:52.859272",
     "exception": false,
     "start_time": "2021-03-03T03:50:52.841065",
     "status": "completed"
    },
    "tags": []
   },
   "source": [
    "We will split the data to train and test set. In production, we may face out of vocabulary (OOV) words, so we need to account for that too while evaluating the model in test set. Hence we use training data to built vocabulory for tfidf vectorization.\n",
    "\n",
    "Tfidf vectorization can be implemented easily using scikit learn.\n",
    "\n",
    "Ref - https://scikit-learn.org/stable/modules/generated/sklearn.feature_extraction.text.TfidfVectorizer.html"
   ]
  },
  {
   "cell_type": "code",
   "execution_count": 8,
   "metadata": {
    "execution": {
     "iopub.execute_input": "2021-03-03T03:50:52.899752Z",
     "iopub.status.busy": "2021-03-03T03:50:52.899094Z",
     "iopub.status.idle": "2021-03-03T03:50:52.905561Z",
     "shell.execute_reply": "2021-03-03T03:50:52.906081Z"
    },
    "papermill": {
     "duration": 0.028491,
     "end_time": "2021-03-03T03:50:52.906238",
     "exception": false,
     "start_time": "2021-03-03T03:50:52.877747",
     "status": "completed"
    },
    "tags": []
   },
   "outputs": [],
   "source": [
    "X_train, X_test , y_train, y_test = train_test_split(df['text'].values,df['target'].values,test_size=0.2,random_state=123)"
   ]
  },
  {
   "cell_type": "code",
   "execution_count": 9,
   "metadata": {
    "execution": {
     "iopub.execute_input": "2021-03-03T03:50:52.948205Z",
     "iopub.status.busy": "2021-03-03T03:50:52.947454Z",
     "iopub.status.idle": "2021-03-03T03:50:53.167594Z",
     "shell.execute_reply": "2021-03-03T03:50:53.166781Z"
    },
    "papermill": {
     "duration": 0.242585,
     "end_time": "2021-03-03T03:50:53.167720",
     "exception": false,
     "start_time": "2021-03-03T03:50:52.925135",
     "status": "completed"
    },
    "tags": []
   },
   "outputs": [],
   "source": [
    "tfidf_vectorizer = TfidfVectorizer() \n",
    "\n",
    "tfidf_train_vectors = tfidf_vectorizer.fit_transform(X_train)\n",
    "\n",
    "tfidf_test_vectors = tfidf_vectorizer.transform(X_test)"
   ]
  },
  {
   "cell_type": "markdown",
   "metadata": {
    "papermill": {
     "duration": 0.018427,
     "end_time": "2021-03-03T03:50:53.204991",
     "exception": false,
     "start_time": "2021-03-03T03:50:53.186564",
     "status": "completed"
    },
    "tags": []
   },
   "source": [
    "# Random Forest classifier\n",
    "\n",
    "A basic random forest model is used for classification problem."
   ]
  },
  {
   "cell_type": "code",
   "execution_count": 10,
   "metadata": {
    "execution": {
     "iopub.execute_input": "2021-03-03T03:50:53.248301Z",
     "iopub.status.busy": "2021-03-03T03:50:53.247527Z",
     "iopub.status.idle": "2021-03-03T03:51:00.405515Z",
     "shell.execute_reply": "2021-03-03T03:51:00.404949Z"
    },
    "papermill": {
     "duration": 7.18191,
     "end_time": "2021-03-03T03:51:00.405648",
     "exception": false,
     "start_time": "2021-03-03T03:50:53.223738",
     "status": "completed"
    },
    "tags": []
   },
   "outputs": [
    {
     "data": {
      "text/plain": [
       "RandomForestClassifier()"
      ]
     },
     "execution_count": 10,
     "metadata": {},
     "output_type": "execute_result"
    }
   ],
   "source": [
    "classifier = RandomForestClassifier()\n",
    "\n",
    "classifier.fit(tfidf_train_vectors,y_train)"
   ]
  },
  {
   "cell_type": "code",
   "execution_count": 11,
   "metadata": {
    "execution": {
     "iopub.execute_input": "2021-03-03T03:51:00.450977Z",
     "iopub.status.busy": "2021-03-03T03:51:00.450264Z",
     "iopub.status.idle": "2021-03-03T03:51:00.609777Z",
     "shell.execute_reply": "2021-03-03T03:51:00.609014Z"
    },
    "papermill": {
     "duration": 0.184748,
     "end_time": "2021-03-03T03:51:00.609925",
     "exception": false,
     "start_time": "2021-03-03T03:51:00.425177",
     "status": "completed"
    },
    "tags": []
   },
   "outputs": [],
   "source": [
    "y_pred = classifier.predict(tfidf_test_vectors)"
   ]
  },
  {
   "cell_type": "code",
   "execution_count": 12,
   "metadata": {
    "execution": {
     "iopub.execute_input": "2021-03-03T03:51:00.657261Z",
     "iopub.status.busy": "2021-03-03T03:51:00.656051Z",
     "iopub.status.idle": "2021-03-03T03:51:00.671743Z",
     "shell.execute_reply": "2021-03-03T03:51:00.672574Z"
    },
    "papermill": {
     "duration": 0.042549,
     "end_time": "2021-03-03T03:51:00.672781",
     "exception": false,
     "start_time": "2021-03-03T03:51:00.630232",
     "status": "completed"
    },
    "tags": []
   },
   "outputs": [
    {
     "name": "stdout",
     "output_type": "stream",
     "text": [
      "              precision    recall  f1-score   support\n",
      "\n",
      "           0       0.92      0.76      0.83      1065\n",
      "           1       0.61      0.85      0.71       458\n",
      "\n",
      "    accuracy                           0.79      1523\n",
      "   macro avg       0.76      0.81      0.77      1523\n",
      "weighted avg       0.83      0.79      0.80      1523\n",
      "\n"
     ]
    }
   ],
   "source": [
    "print(classification_report(y_pred,y_test))"
   ]
  },
  {
   "cell_type": "code",
   "execution_count": 13,
   "metadata": {
    "execution": {
     "iopub.execute_input": "2021-03-03T03:51:00.727509Z",
     "iopub.status.busy": "2021-03-03T03:51:00.726441Z",
     "iopub.status.idle": "2021-03-03T03:51:00.951303Z",
     "shell.execute_reply": "2021-03-03T03:51:00.950701Z"
    },
    "papermill": {
     "duration": 0.252086,
     "end_time": "2021-03-03T03:51:00.951417",
     "exception": false,
     "start_time": "2021-03-03T03:51:00.699331",
     "status": "completed"
    },
    "tags": []
   },
   "outputs": [
    {
     "data": {
      "image/png": "[encoded data removed]",
      "text/plain": [
       "<Figure size 432x288 with 2 Axes>"
      ]
     },
     "metadata": {
      "needs_background": "light"
     },
     "output_type": "display_data"
    }
   ],
   "source": [
    "cnf_matrix = confusion_matrix(y_test,y_pred)\n",
    "group_names = ['TN','FP','FN','TP']\n",
    "group_counts = [\"{0:0.0f}\".format(value) for value in cnf_matrix.flatten()]\n",
    "labels = [f\"{v1}\\n{v2}\" for v1, v2 in zip(group_names,group_counts)]\n",
    "labels = np.asarray(labels).reshape(2,2)\n",
    "sns.heatmap(cnf_matrix, annot=labels, fmt='', cmap='Blues');"
   ]
  },
  {
   "cell_type": "markdown",
   "metadata": {
    "papermill": {
     "duration": 0.020724,
     "end_time": "2021-03-03T03:51:00.993002",
     "exception": false,
     "start_time": "2021-03-03T03:51:00.972278",
     "status": "completed"
    },
    "tags": []
   },
   "source": [
    "# End Notes\n",
    "\n",
    "This is a beginer level notebook for the scikit learn based implementation of tfidf vectorization. The accuracy can be improved by using dense vectors like Word2Vec, Glove etc. , that accounts the semantic relationship between the words. Also, the problem can be treated as a sequential learning problem, and can use deep learning techniques.\n",
    "\n",
    "Link of my work on the same is provided below:\n",
    "\n",
    "https://www.kaggle.com/neerajmohan/bidirectional-lstm-using-tensorflow-2-0\n"
   ]
  },
  {
   "cell_type": "code",
   "execution_count": null,
   "metadata": {
    "papermill": {
     "duration": 0.020729,
     "end_time": "2021-03-03T03:51:01.035780",
     "exception": false,
     "start_time": "2021-03-03T03:51:01.015051",
     "status": "completed"
    },
    "tags": []
   },
   "outputs": [],
   "source": []
  }
 ],
 "metadata": {
  "kernelspec": {
   "display_name": "Python 3",
   "language": "python",
   "name": "python3"
  },
  "language_info": {
   "codemirror_mode": {
    "name": "ipython",
    "version": 3
   },
   "file_extension": ".py",
   "mimetype": "text/x-python",
   "name": "python",
   "nbconvert_exporter": "python",
   "pygments_lexer": "ipython3",
   "version": "3.7.6"
  },
  "papermill": {
   "duration": 21.043999,
   "end_time": "2021-03-03T03:51:02.159722",
   "environment_variables": {},
   "exception": null,
   "input_path": "__notebook__.ipynb",
   "output_path": "__notebook__.ipynb",
   "parameters": {},
   "start_time": "2021-03-03T03:50:41.115723",
   "version": "2.1.0"
  }
 },
 "nbformat": 4,
 "nbformat_minor": 4
}
